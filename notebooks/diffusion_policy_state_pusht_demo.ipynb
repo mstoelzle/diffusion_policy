{
  "cells": [
    {
      "cell_type": "code",
      "execution_count": 1,
      "metadata": {
        "colab": {
          "base_uri": "https://localhost:8080/"
        },
        "id": "2QwO2gAgiJS2",
        "outputId": "acec0463-c03f-4359-9680-6ebbc99e4267"
      },
      "outputs": [
        {
          "name": "stdout",
          "output_type": "stream",
          "text": [
            "Python 3.10.18\n"
          ]
        }
      ],
      "source": [
        "#@markdown ### **Installing pip packages**\n",
        "#@markdown - Diffusion Model: [PyTorch](https://pytorch.org) & [HuggingFace diffusers](https://huggingface.co/docs/diffusers/index)\n",
        "#@markdown - Dataset Loading: [Zarr](https://zarr.readthedocs.io/en/stable/) & numcodecs\n",
        "#@markdown - Push-T Env: gym, pygame, pymunk & shapely\n",
        "!python --version\n",
        "# !pip3 install torch==1.13.1 torchvision==0.14.1 diffusers==0.18.2 \\\n",
        "# scikit-image==0.19.3 scikit-video==1.1.11 zarr==2.12.0 numcodecs==0.10.2 \\\n",
        "# pygame==2.1.2 pymunk==6.2.1 gym==0.26.2 shapely==1.8.4 \\\n",
        "# &> /dev/null # mute output"
      ]
    },
    {
      "cell_type": "code",
      "execution_count": 2,
      "metadata": {
        "colab": {
          "base_uri": "https://localhost:8080/",
          "height": 87,
          "referenced_widgets": [
            "49d5ffd9eb81491f95df70e66c0c94e4",
            "9a3d8fbcc3e548e1a56d25c10b321e6a",
            "6cf470f12c174e94b0b058cfba9b5fb2",
            "9b6de90b3dbc4877966b2d5233189866",
            "4b3aeac3e8e74b8f8dab0dc9ad0b7c94",
            "ac6375a33ca84241b50638edb6321112",
            "583a530a9c0442f2b762b281caa4836d",
            "c7d2c3f8b3714a0d911a132c74589ce1",
            "03bbeb04a4c44206b1671e69864e69c7",
            "b2331069d969430b87c47e6f11fb2a9e",
            "c8c282ba14c14da28ba421abc7119cf9"
          ]
        },
        "id": "VrX4VTl5pYNq",
        "outputId": "1a01b12b-0e61-4f38-bb81-f72591e267da"
      },
      "outputs": [
        {
          "name": "stderr",
          "output_type": "stream",
          "text": [
            "/Users/maximilianstoelzle/miniconda3/envs/diffusion-policy/lib/python3.10/site-packages/pygame/pkgdata.py:25: UserWarning: pkg_resources is deprecated as an API. See https://setuptools.pypa.io/en/latest/pkg_resources.html. The pkg_resources package is slated for removal as early as 2025-11-30. Refrain from using this package or pin to Setuptools<81.\n",
            "  from pkg_resources import resource_stream, resource_exists\n"
          ]
        },
        {
          "name": "stdout",
          "output_type": "stream",
          "text": [
            "pygame 2.6.1 (SDL 2.28.4, Python 3.10.18)\n",
            "Hello from the pygame community. https://www.pygame.org/contribute.html\n"
          ]
        }
      ],
      "source": [
        "#@markdown ### **Imports**\n",
        "# diffusion policy import\n",
        "from typing import Tuple, Sequence, Dict, Union, Optional\n",
        "import numpy as np\n",
        "import math\n",
        "import torch\n",
        "import torch.nn as nn\n",
        "import collections\n",
        "import zarr\n",
        "from diffusers.schedulers.scheduling_ddpm import DDPMScheduler\n",
        "from diffusers.training_utils import EMAModel\n",
        "from diffusers.optimization import get_scheduler\n",
        "from tqdm.auto import tqdm\n",
        "\n",
        "# env import\n",
        "import gym\n",
        "from gym import spaces\n",
        "import pygame\n",
        "import pymunk\n",
        "import pymunk.pygame_util\n",
        "from pymunk.space_debug_draw_options import SpaceDebugColor\n",
        "from pymunk.vec2d import Vec2d\n",
        "import shapely.geometry as sg\n",
        "import cv2\n",
        "import skimage.transform as st\n",
        "from skvideo.io import vwrite\n",
        "from IPython.display import Video\n",
        "import gdown\n",
        "import os"
      ]
    },
    {
      "cell_type": "code",
      "execution_count": 3,
      "metadata": {
        "cellView": "form",
        "id": "L5E-nR6ornyg"
      },
      "outputs": [],
      "source": [
        "#@markdown ### **Environment**\n",
        "#@markdown Defines a PyMunk-based Push-T environment `PushTEnv`.\n",
        "#@markdown\n",
        "#@markdown **Goal**: push the gray T-block into the green area.\n",
        "#@markdown\n",
        "#@markdown Adapted from [Implicit Behavior Cloning](https://implicitbc.github.io/)\n",
        "\n",
        "\n",
        "positive_y_is_up: bool = False\n",
        "\"\"\"Make increasing values of y point upwards.\n",
        "\n",
        "When True::\n",
        "\n",
        "    y\n",
        "    ^\n",
        "    |      . (3, 3)\n",
        "    |\n",
        "    |   . (2, 2)\n",
        "    |\n",
        "    +------ > x\n",
        "\n",
        "When False::\n",
        "\n",
        "    +------ > x\n",
        "    |\n",
        "    |   . (2, 2)\n",
        "    |\n",
        "    |      . (3, 3)\n",
        "    v\n",
        "    y\n",
        "\n",
        "\"\"\"\n",
        "\n",
        "def to_pygame(p: Tuple[float, float], surface: pygame.Surface) -> Tuple[int, int]:\n",
        "    \"\"\"Convenience method to convert pymunk coordinates to pygame surface\n",
        "    local coordinates.\n",
        "\n",
        "    Note that in case positive_y_is_up is False, this function wont actually do\n",
        "    anything except converting the point to integers.\n",
        "    \"\"\"\n",
        "    if positive_y_is_up:\n",
        "        return round(p[0]), surface.get_height() - round(p[1])\n",
        "    else:\n",
        "        return round(p[0]), round(p[1])\n",
        "\n",
        "\n",
        "def light_color(color: SpaceDebugColor):\n",
        "    color = np.minimum(1.2 * np.float32([color.r, color.g, color.b, color.a]), np.float32([255]))\n",
        "    color = SpaceDebugColor(r=color[0], g=color[1], b=color[2], a=color[3])\n",
        "    return color\n",
        "\n",
        "class DrawOptions(pymunk.SpaceDebugDrawOptions):\n",
        "    def __init__(self, surface: pygame.Surface) -> None:\n",
        "        \"\"\"Draw a pymunk.Space on a pygame.Surface object.\n",
        "\n",
        "        Typical usage::\n",
        "\n",
        "        >>> import pymunk\n",
        "        >>> surface = pygame.Surface((10,10))\n",
        "        >>> space = pymunk.Space()\n",
        "        >>> options = pymunk.pygame_util.DrawOptions(surface)\n",
        "        >>> space.debug_draw(options)\n",
        "\n",
        "        You can control the color of a shape by setting shape.color to the color\n",
        "        you want it drawn in::\n",
        "\n",
        "        >>> c = pymunk.Circle(None, 10)\n",
        "        >>> c.color = pygame.Color(\"pink\")\n",
        "\n",
        "        See pygame_util.demo.py for a full example\n",
        "\n",
        "        Since pygame uses a coordiante system where y points down (in contrast\n",
        "        to many other cases), you either have to make the physics simulation\n",
        "        with Pymunk also behave in that way, or flip everything when you draw.\n",
        "\n",
        "        The easiest is probably to just make the simulation behave the same\n",
        "        way as Pygame does. In that way all coordinates used are in the same\n",
        "        orientation and easy to reason about::\n",
        "\n",
        "        >>> space = pymunk.Space()\n",
        "        >>> space.gravity = (0, -1000)\n",
        "        >>> body = pymunk.Body()\n",
        "        >>> body.position = (0, 0) # will be positioned in the top left corner\n",
        "        >>> space.debug_draw(options)\n",
        "\n",
        "        To flip the drawing its possible to set the module property\n",
        "        :py:data:`positive_y_is_up` to True. Then the pygame drawing will flip\n",
        "        the simulation upside down before drawing::\n",
        "\n",
        "        >>> positive_y_is_up = True\n",
        "        >>> body = pymunk.Body()\n",
        "        >>> body.position = (0, 0)\n",
        "        >>> # Body will be position in bottom left corner\n",
        "\n",
        "        :Parameters:\n",
        "                surface : pygame.Surface\n",
        "                    Surface that the objects will be drawn on\n",
        "        \"\"\"\n",
        "        self.surface = surface\n",
        "        super(DrawOptions, self).__init__()\n",
        "\n",
        "    def draw_circle(\n",
        "        self,\n",
        "        pos: Vec2d,\n",
        "        angle: float,\n",
        "        radius: float,\n",
        "        outline_color: SpaceDebugColor,\n",
        "        fill_color: SpaceDebugColor,\n",
        "    ) -> None:\n",
        "        p = to_pygame(pos, self.surface)\n",
        "\n",
        "        pygame.draw.circle(self.surface, fill_color.as_int(), p, round(radius), 0)\n",
        "        pygame.draw.circle(self.surface, light_color(fill_color).as_int(), p, round(radius-4), 0)\n",
        "\n",
        "        circle_edge = pos + Vec2d(radius, 0).rotated(angle)\n",
        "        p2 = to_pygame(circle_edge, self.surface)\n",
        "        line_r = 2 if radius > 20 else 1\n",
        "        # pygame.draw.lines(self.surface, outline_color.as_int(), False, [p, p2], line_r)\n",
        "\n",
        "    def draw_segment(self, a: Vec2d, b: Vec2d, color: SpaceDebugColor) -> None:\n",
        "        p1 = to_pygame(a, self.surface)\n",
        "        p2 = to_pygame(b, self.surface)\n",
        "\n",
        "        pygame.draw.aalines(self.surface, color.as_int(), False, [p1, p2])\n",
        "\n",
        "    def draw_fat_segment(\n",
        "        self,\n",
        "        a: Tuple[float, float],\n",
        "        b: Tuple[float, float],\n",
        "        radius: float,\n",
        "        outline_color: SpaceDebugColor,\n",
        "        fill_color: SpaceDebugColor,\n",
        "    ) -> None:\n",
        "        p1 = to_pygame(a, self.surface)\n",
        "        p2 = to_pygame(b, self.surface)\n",
        "\n",
        "        r = round(max(1, radius * 2))\n",
        "        pygame.draw.lines(self.surface, fill_color.as_int(), False, [p1, p2], r)\n",
        "        if r > 2:\n",
        "            orthog = [abs(p2[1] - p1[1]), abs(p2[0] - p1[0])]\n",
        "            if orthog[0] == 0 and orthog[1] == 0:\n",
        "                return\n",
        "            scale = radius / (orthog[0] * orthog[0] + orthog[1] * orthog[1]) ** 0.5\n",
        "            orthog[0] = round(orthog[0] * scale)\n",
        "            orthog[1] = round(orthog[1] * scale)\n",
        "            points = [\n",
        "                (p1[0] - orthog[0], p1[1] - orthog[1]),\n",
        "                (p1[0] + orthog[0], p1[1] + orthog[1]),\n",
        "                (p2[0] + orthog[0], p2[1] + orthog[1]),\n",
        "                (p2[0] - orthog[0], p2[1] - orthog[1]),\n",
        "            ]\n",
        "            pygame.draw.polygon(self.surface, fill_color.as_int(), points)\n",
        "            pygame.draw.circle(\n",
        "                self.surface,\n",
        "                fill_color.as_int(),\n",
        "                (round(p1[0]), round(p1[1])),\n",
        "                round(radius),\n",
        "            )\n",
        "            pygame.draw.circle(\n",
        "                self.surface,\n",
        "                fill_color.as_int(),\n",
        "                (round(p2[0]), round(p2[1])),\n",
        "                round(radius),\n",
        "            )\n",
        "\n",
        "    def draw_polygon(\n",
        "        self,\n",
        "        verts: Sequence[Tuple[float, float]],\n",
        "        radius: float,\n",
        "        outline_color: SpaceDebugColor,\n",
        "        fill_color: SpaceDebugColor,\n",
        "    ) -> None:\n",
        "        ps = [to_pygame(v, self.surface) for v in verts]\n",
        "        ps += [ps[0]]\n",
        "\n",
        "        radius = 2\n",
        "        pygame.draw.polygon(self.surface, light_color(fill_color).as_int(), ps)\n",
        "\n",
        "        if radius > 0:\n",
        "            for i in range(len(verts)):\n",
        "                a = verts[i]\n",
        "                b = verts[(i + 1) % len(verts)]\n",
        "                self.draw_fat_segment(a, b, radius, fill_color, fill_color)\n",
        "\n",
        "    def draw_dot(\n",
        "        self, size: float, pos: Tuple[float, float], color: SpaceDebugColor\n",
        "    ) -> None:\n",
        "        p = to_pygame(pos, self.surface)\n",
        "        pygame.draw.circle(self.surface, color.as_int(), p, round(size), 0)\n",
        "\n",
        "\n",
        "def pymunk_to_shapely(body, shapes):\n",
        "    geoms = list()\n",
        "    for shape in shapes:\n",
        "        if isinstance(shape, pymunk.shapes.Poly):\n",
        "            verts = [body.local_to_world(v) for v in shape.get_vertices()]\n",
        "            verts += [verts[0]]\n",
        "            geoms.append(sg.Polygon(verts))\n",
        "        else:\n",
        "            raise RuntimeError(f'Unsupported shape type {type(shape)}')\n",
        "    geom = sg.MultiPolygon(geoms)\n",
        "    return geom\n",
        "\n",
        "# env\n",
        "class PushTEnv(gym.Env):\n",
        "    metadata = {\"render.modes\": [\"human\", \"rgb_array\"], \"video.frames_per_second\": 10}\n",
        "    reward_range = (0., 1.)\n",
        "\n",
        "    def __init__(self,\n",
        "            legacy=False,\n",
        "            block_cog=None, damping=None,\n",
        "            render_action=True,\n",
        "            render_size=96,\n",
        "            reset_to_state=None\n",
        "        ):\n",
        "        self._seed = None\n",
        "        self.seed()\n",
        "        self.window_size = ws = 512  # The size of the PyGame window\n",
        "        self.render_size = render_size\n",
        "        self.sim_hz = 100\n",
        "        # Local controller params.\n",
        "        self.k_p, self.k_v = 100, 20    # PD control.z\n",
        "        self.control_hz = self.metadata['video.frames_per_second']\n",
        "        # legcay set_state for data compatiblity\n",
        "        self.legacy = legacy\n",
        "\n",
        "        # agent_pos, block_pos, block_angle\n",
        "        self.observation_space = spaces.Box(\n",
        "            low=np.array([0,0,0,0,0], dtype=np.float64),\n",
        "            high=np.array([ws,ws,ws,ws,np.pi*2], dtype=np.float64),\n",
        "            shape=(5,),\n",
        "            dtype=np.float64\n",
        "        )\n",
        "\n",
        "        # positional goal for agent\n",
        "        self.action_space = spaces.Box(\n",
        "            low=np.array([0,0], dtype=np.float64),\n",
        "            high=np.array([ws,ws], dtype=np.float64),\n",
        "            shape=(2,),\n",
        "            dtype=np.float64\n",
        "        )\n",
        "\n",
        "        self.block_cog = block_cog\n",
        "        self.damping = damping\n",
        "        self.render_action = render_action\n",
        "\n",
        "        \"\"\"\n",
        "        If human-rendering is used, `self.window` will be a reference\n",
        "        to the window that we draw to. `self.clock` will be a clock that is used\n",
        "        to ensure that the environment is rendered at the correct framerate in\n",
        "        human-mode. They will remain `None` until human-mode is used for the\n",
        "        first time.\n",
        "        \"\"\"\n",
        "        self.window = None\n",
        "        self.clock = None\n",
        "        self.screen = None\n",
        "\n",
        "        self.space = None\n",
        "        self.teleop = None\n",
        "        self.render_buffer = None\n",
        "        self.latest_action = None\n",
        "        self.reset_to_state = reset_to_state\n",
        "\n",
        "    def reset(self):\n",
        "        seed = self._seed\n",
        "        self._setup()\n",
        "        if self.block_cog is not None:\n",
        "            self.block.center_of_gravity = self.block_cog\n",
        "        if self.damping is not None:\n",
        "            self.space.damping = self.damping\n",
        "\n",
        "        # use legacy RandomState for compatiblity\n",
        "        state = self.reset_to_state\n",
        "        if state is None:\n",
        "            rs = np.random.RandomState(seed=seed)\n",
        "            state = np.array([\n",
        "                rs.randint(50, 450), rs.randint(50, 450),\n",
        "                rs.randint(100, 400), rs.randint(100, 400),\n",
        "                rs.randn() * 2 * np.pi - np.pi\n",
        "                ])\n",
        "        self._set_state(state)\n",
        "\n",
        "        obs = self._get_obs()\n",
        "        info = self._get_info()\n",
        "        return obs, info\n",
        "\n",
        "    def step(self, action):\n",
        "        dt = 1.0 / self.sim_hz\n",
        "        self.n_contact_points = 0\n",
        "        n_steps = self.sim_hz // self.control_hz\n",
        "        if action is not None:\n",
        "            self.latest_action = action\n",
        "            for i in range(n_steps):\n",
        "                # Step PD control.\n",
        "                # self.agent.velocity = self.k_p * (act - self.agent.position)    # P control works too.\n",
        "                acceleration = self.k_p * (action - self.agent.position) + self.k_v * (Vec2d(0, 0) - self.agent.velocity)\n",
        "                self.agent.velocity += acceleration * dt\n",
        "\n",
        "                # Step physics.\n",
        "                self.space.step(dt)\n",
        "\n",
        "        # compute reward\n",
        "        goal_body = self._get_goal_pose_body(self.goal_pose)\n",
        "        goal_geom = pymunk_to_shapely(goal_body, self.block.shapes)\n",
        "        block_geom = pymunk_to_shapely(self.block, self.block.shapes)\n",
        "\n",
        "        intersection_area = goal_geom.intersection(block_geom).area\n",
        "        goal_area = goal_geom.area\n",
        "        coverage = intersection_area / goal_area\n",
        "        reward = np.clip(coverage / self.success_threshold, 0, 1)\n",
        "        done = coverage > self.success_threshold\n",
        "        terminated = done\n",
        "        truncated = done\n",
        "\n",
        "        observation = self._get_obs()\n",
        "        info = self._get_info()\n",
        "\n",
        "        return observation, reward, terminated, truncated, info\n",
        "\n",
        "    def render(self, mode):\n",
        "        return self._render_frame(mode)\n",
        "\n",
        "    def teleop_agent(self):\n",
        "        TeleopAgent = collections.namedtuple('TeleopAgent', ['act'])\n",
        "        def act(obs):\n",
        "            act = None\n",
        "            mouse_position = pymunk.pygame_util.from_pygame(Vec2d(*pygame.mouse.get_pos()), self.screen)\n",
        "            if self.teleop or (mouse_position - self.agent.position).length < 30:\n",
        "                self.teleop = True\n",
        "                act = mouse_position\n",
        "            return act\n",
        "        return TeleopAgent(act)\n",
        "\n",
        "    def _get_obs(self):\n",
        "        obs = np.array(\n",
        "            tuple(self.agent.position) \\\n",
        "            + tuple(self.block.position) \\\n",
        "            + (self.block.angle % (2 * np.pi),))\n",
        "        return obs\n",
        "\n",
        "    def _get_goal_pose_body(self, pose):\n",
        "        mass = 1\n",
        "        inertia = pymunk.moment_for_box(mass, (50, 100))\n",
        "        body = pymunk.Body(mass, inertia)\n",
        "        # preserving the legacy assignment order for compatibility\n",
        "        # the order here dosn't matter somehow, maybe because CoM is aligned with body origin\n",
        "        body.position = pose[:2].tolist()\n",
        "        body.angle = pose[2]\n",
        "        return body\n",
        "\n",
        "    def _get_info(self):\n",
        "        n_steps = self.sim_hz // self.control_hz\n",
        "        n_contact_points_per_step = int(np.ceil(self.n_contact_points / n_steps)) if hasattr(self, 'n_contact_points') else 0\n",
        "        info = {\n",
        "            'pos_agent': np.array(self.agent.position),\n",
        "            'vel_agent': np.array(self.agent.velocity),\n",
        "            'block_pose': np.array(list(self.block.position) + [self.block.angle]),\n",
        "            'goal_pose': self.goal_pose,\n",
        "            'n_contacts': n_contact_points_per_step}\n",
        "        return info\n",
        "\n",
        "    def _render_frame(self, mode):\n",
        "\n",
        "        if self.window is None and mode == \"human\":\n",
        "            pygame.init()\n",
        "            pygame.display.init()\n",
        "            self.window = pygame.display.set_mode((self.window_size, self.window_size))\n",
        "        if self.clock is None and mode == \"human\":\n",
        "            self.clock = pygame.time.Clock()\n",
        "\n",
        "        canvas = pygame.Surface((self.window_size, self.window_size))\n",
        "        canvas.fill((255, 255, 255))\n",
        "        self.screen = canvas\n",
        "\n",
        "        draw_options = DrawOptions(canvas)\n",
        "\n",
        "        # Draw goal pose.\n",
        "        goal_body = self._get_goal_pose_body(self.goal_pose)\n",
        "        for shape in self.block.shapes:\n",
        "            goal_points = [pymunk.pygame_util.to_pygame(goal_body.local_to_world(v), draw_options.surface) for v in shape.get_vertices()]\n",
        "            goal_points += [goal_points[0]]\n",
        "            pygame.draw.polygon(canvas, self.goal_color, goal_points)\n",
        "\n",
        "        # Draw agent and block.\n",
        "        self.space.debug_draw(draw_options)\n",
        "\n",
        "        if mode == \"human\":\n",
        "            # The following line copies our drawings from `canvas` to the visible window\n",
        "            self.window.blit(canvas, canvas.get_rect())\n",
        "            pygame.event.pump()\n",
        "            pygame.display.update()\n",
        "\n",
        "            # the clock is aleady ticked during in step for \"human\"\n",
        "\n",
        "\n",
        "        img = np.transpose(\n",
        "                np.array(pygame.surfarray.pixels3d(canvas)), axes=(1, 0, 2)\n",
        "            )\n",
        "        img = cv2.resize(img, (self.render_size, self.render_size))\n",
        "        if self.render_action:\n",
        "            if self.render_action and (self.latest_action is not None):\n",
        "                action = np.array(self.latest_action)\n",
        "                coord = (action / 512 * 96).astype(np.int32)\n",
        "                marker_size = int(8/96*self.render_size)\n",
        "                thickness = int(1/96*self.render_size)\n",
        "                cv2.drawMarker(img, coord,\n",
        "                    color=(255,0,0), markerType=cv2.MARKER_CROSS,\n",
        "                    markerSize=marker_size, thickness=thickness)\n",
        "        return img\n",
        "\n",
        "\n",
        "    def close(self):\n",
        "        if self.window is not None:\n",
        "            pygame.display.quit()\n",
        "            pygame.quit()\n",
        "\n",
        "    def seed(self, seed=None):\n",
        "        if seed is None:\n",
        "            seed = np.random.randint(0,25536)\n",
        "        self._seed = seed\n",
        "        self.np_random = np.random.default_rng(seed)\n",
        "\n",
        "    def _handle_collision(self, arbiter, space, data):\n",
        "        try:\n",
        "            self.n_contact_points += len(arbiter.contact_point_set.points)\n",
        "        except AttributeError:\n",
        "            # Fallback if contact_point_set structure is different\n",
        "            self.n_contact_points += 1\n",
        "\n",
        "    def _set_state(self, state):\n",
        "        if isinstance(state, np.ndarray):\n",
        "            state = state.tolist()\n",
        "        pos_agent = state[:2]\n",
        "        pos_block = state[2:4]\n",
        "        rot_block = state[4]\n",
        "        self.agent.position = pos_agent\n",
        "        # setting angle rotates with respect to center of mass\n",
        "        # therefore will modify the geometric position\n",
        "        # if not the same as CoM\n",
        "        # therefore should be modified first.\n",
        "        if self.legacy:\n",
        "            # for compatiblity with legacy data\n",
        "            self.block.position = pos_block\n",
        "            self.block.angle = rot_block\n",
        "        else:\n",
        "            self.block.angle = rot_block\n",
        "            self.block.position = pos_block\n",
        "\n",
        "        # Run physics to take effect\n",
        "        self.space.step(1.0 / self.sim_hz)\n",
        "\n",
        "    def _set_state_local(self, state_local):\n",
        "        agent_pos_local = state_local[:2]\n",
        "        block_pose_local = state_local[2:]\n",
        "        tf_img_obj = st.AffineTransform(\n",
        "            translation=self.goal_pose[:2],\n",
        "            rotation=self.goal_pose[2])\n",
        "        tf_obj_new = st.AffineTransform(\n",
        "            translation=block_pose_local[:2],\n",
        "            rotation=block_pose_local[2]\n",
        "        )\n",
        "        tf_img_new = st.AffineTransform(\n",
        "            matrix=tf_img_obj.params @ tf_obj_new.params\n",
        "        )\n",
        "        agent_pos_new = tf_img_new(agent_pos_local)\n",
        "        new_state = np.array(\n",
        "            list(agent_pos_new[0]) + list(tf_img_new.translation) \\\n",
        "                + [tf_img_new.rotation])\n",
        "        self._set_state(new_state)\n",
        "        return new_state\n",
        "\n",
        "    def _setup(self):\n",
        "        self.space = pymunk.Space()\n",
        "        self.space.gravity = 0, 0\n",
        "        self.space.damping = 0\n",
        "        self.teleop = False\n",
        "        self.render_buffer = list()\n",
        "\n",
        "        # Add walls.\n",
        "        walls = [\n",
        "            self._add_segment((5, 506), (5, 5), 2),\n",
        "            self._add_segment((5, 5), (506, 5), 2),\n",
        "            self._add_segment((506, 5), (506, 506), 2),\n",
        "            self._add_segment((5, 506), (506, 506), 2)\n",
        "        ]\n",
        "        self.space.add(*walls)\n",
        "\n",
        "        # Add agent, block, and goal zone.\n",
        "        self.agent = self.add_circle((256, 400), 15)\n",
        "        self.block = self.add_tee((256, 300), 0)\n",
        "        self.goal_color = pygame.Color('LightGreen')\n",
        "        self.goal_pose = np.array([256,256,np.pi/4])  # x, y, theta (in radians)\n",
        "\n",
        "        # Add collision handling\n",
        "        # Use the correct API for newer PyMunk versions\n",
        "        try:\n",
        "            # Try the newer API first\n",
        "            self.collision_handler = self.space.add_collision_handler(0, 0)\n",
        "            self.collision_handler.post_solve = self._handle_collision\n",
        "        except AttributeError:\n",
        "            # Fallback for older PyMunk versions or different API\n",
        "            try:\n",
        "                self.collision_handler = self.space.add_default_collision_handler()\n",
        "                self.collision_handler.post_solve = self._handle_collision\n",
        "            except AttributeError:\n",
        "                # If collision handlers are not available, we'll track contacts differently\n",
        "                self.collision_handler = None\n",
        "        \n",
        "        self.n_contact_points = 0\n",
        "\n",
        "        self.max_score = 50 * 100\n",
        "        self.success_threshold = 0.95    # 95% coverage.\n",
        "\n",
        "    def _add_segment(self, a, b, radius):\n",
        "        shape = pymunk.Segment(self.space.static_body, a, b, radius)\n",
        "        shape.color = pygame.Color('LightGray')    # https://htmlcolorcodes.com/color-names\n",
        "        return shape\n",
        "\n",
        "    def add_circle(self, position, radius):\n",
        "        body = pymunk.Body(body_type=pymunk.Body.KINEMATIC)\n",
        "        body.position = position\n",
        "        body.friction = 1\n",
        "        shape = pymunk.Circle(body, radius)\n",
        "        shape.color = pygame.Color('RoyalBlue')\n",
        "        self.space.add(body, shape)\n",
        "        return body\n",
        "\n",
        "    def add_box(self, position, height, width):\n",
        "        mass = 1\n",
        "        inertia = pymunk.moment_for_box(mass, (height, width))\n",
        "        body = pymunk.Body(mass, inertia)\n",
        "        body.position = position\n",
        "        shape = pymunk.Poly.create_box(body, (height, width))\n",
        "        shape.color = pygame.Color('LightSlateGray')\n",
        "        self.space.add(body, shape)\n",
        "        return body\n",
        "\n",
        "    def add_tee(self, position, angle, scale=30, color='LightSlateGray', mask=pymunk.ShapeFilter.ALL_MASKS()):\n",
        "        mass = 1\n",
        "        length = 4\n",
        "        vertices1 = [(-length*scale/2, scale),\n",
        "                                 ( length*scale/2, scale),\n",
        "                                 ( length*scale/2, 0),\n",
        "                                 (-length*scale/2, 0)]\n",
        "        inertia1 = pymunk.moment_for_poly(mass, vertices=vertices1)\n",
        "        vertices2 = [(-scale/2, scale),\n",
        "                                 (-scale/2, length*scale),\n",
        "                                 ( scale/2, length*scale),\n",
        "                                 ( scale/2, scale)]\n",
        "        inertia2 = pymunk.moment_for_poly(mass, vertices=vertices1)\n",
        "        body = pymunk.Body(mass, inertia1 + inertia2)\n",
        "        shape1 = pymunk.Poly(body, vertices1)\n",
        "        shape2 = pymunk.Poly(body, vertices2)\n",
        "        shape1.color = pygame.Color(color)\n",
        "        shape2.color = pygame.Color(color)\n",
        "        shape1.filter = pymunk.ShapeFilter(mask=mask)\n",
        "        shape2.filter = pymunk.ShapeFilter(mask=mask)\n",
        "        body.center_of_gravity = (shape1.center_of_gravity + shape2.center_of_gravity) / 2\n",
        "        body.position = position\n",
        "        body.angle = angle\n",
        "        body.friction = 1\n",
        "        self.space.add(body, shape1, shape2)\n",
        "        return body\n"
      ]
    },
    {
      "cell_type": "code",
      "execution_count": 7,
      "metadata": {
        "colab": {
          "base_uri": "https://localhost:8080/"
        },
        "id": "OknH8Qfqrtc9",
        "outputId": "7563449e-9549-4de2-e049-bde843e76fed"
      },
      "outputs": [
        {
          "name": "stdout",
          "output_type": "stream",
          "text": [
            "Obs:  array([224.2635, 137.5274, 292.    , 351.    ,   2.9196])\n",
            "Obs:        [agent_x,  agent_y,  block_x,  block_y,    block_angle]\n",
            "Action:  array([432.1363, 176.8978])\n",
            "Action:   [target_agent_x, target_agent_y]\n"
          ]
        }
      ],
      "source": [
        "#@markdown ### **Env Demo**\n",
        "#@markdown Standard Gym Env (0.21.0 API)\n",
        "\n",
        "# 0. create env object\n",
        "env = PushTEnv()\n",
        "\n",
        "# 1. seed env for initial state.\n",
        "# Seed 0-200 are used for the demonstration dataset.\n",
        "env.seed(1000)\n",
        "\n",
        "# 2. must reset before use\n",
        "obs, info = env.reset()\n",
        "\n",
        "# 3. 2D positional action space [0,512]\n",
        "action = env.action_space.sample()\n",
        "\n",
        "# 4. Standard gym step method\n",
        "obs, reward, terminated, truncated, info = env.step(action)\n",
        "\n",
        "# prints and explains each dimension of the observation and action vectors\n",
        "with np.printoptions(precision=4, suppress=True, threshold=5):\n",
        "    print(\"Obs: \", repr(obs))\n",
        "    print(\"Obs:        [agent_x,  agent_y,  block_x,  block_y,    block_angle]\")\n",
        "    print(\"Action: \", repr(action))\n",
        "    print(\"Action:   [target_agent_x, target_agent_y]\")"
      ]
    },
    {
      "cell_type": "code",
      "execution_count": null,
      "metadata": {
        "cellView": "form",
        "id": "vHepJOFBucwg"
      },
      "outputs": [],
      "source": [
        "#@markdown ### **Dataset**\n",
        "#@markdown\n",
        "#@markdown Defines `PushTStateDataset` and helper functions\n",
        "#@markdown\n",
        "#@markdown The dataset class\n",
        "#@markdown - Load data (obs, action) from a zarr storage\n",
        "#@markdown - Normalizes each dimension of obs and action to [-1,1]\n",
        "#@markdown - Returns\n",
        "#@markdown  - All possible segments with length `pred_horizon`\n",
        "#@markdown  - Pads the beginning and the end of each episode with repetition\n",
        "#@markdown  - key `obs`: shape (obs_horizon, obs_dim)\n",
        "#@markdown  - key `action`: shape (pred_horizon, action_dim)\n",
        "\n",
        "def create_sample_indices(\n",
        "        episode_ends:np.ndarray, sequence_length:int,\n",
        "        pad_before: int=0, pad_after: int=0):\n",
        "    indices = list()\n",
        "    for i in range(len(episode_ends)):\n",
        "        start_idx = 0\n",
        "        if i > 0:\n",
        "            start_idx = episode_ends[i-1]\n",
        "        end_idx = episode_ends[i]\n",
        "        episode_length = end_idx - start_idx\n",
        "\n",
        "        min_start = -pad_before\n",
        "        max_start = episode_length - sequence_length + pad_after\n",
        "\n",
        "        # range stops one idx before end\n",
        "        for idx in range(min_start, max_start+1):\n",
        "            buffer_start_idx = max(idx, 0) + start_idx\n",
        "            buffer_end_idx = min(idx+sequence_length, episode_length) + start_idx\n",
        "            start_offset = buffer_start_idx - (idx+start_idx)\n",
        "            end_offset = (idx+sequence_length+start_idx) - buffer_end_idx\n",
        "            sample_start_idx = 0 + start_offset\n",
        "            sample_end_idx = sequence_length - end_offset\n",
        "            indices.append([\n",
        "                buffer_start_idx, buffer_end_idx,\n",
        "                sample_start_idx, sample_end_idx])\n",
        "    indices = np.array(indices)\n",
        "    return indices\n",
        "\n",
        "\n",
        "def sample_sequence(train_data, sequence_length,\n",
        "                    buffer_start_idx, buffer_end_idx,\n",
        "                    sample_start_idx, sample_end_idx):\n",
        "    result = dict()\n",
        "    for key, input_arr in train_data.items():\n",
        "        sample = input_arr[buffer_start_idx:buffer_end_idx]\n",
        "        data = sample\n",
        "        if (sample_start_idx > 0) or (sample_end_idx < sequence_length):\n",
        "            data = np.zeros(\n",
        "                shape=(sequence_length,) + input_arr.shape[1:],\n",
        "                dtype=input_arr.dtype)\n",
        "            if sample_start_idx > 0:\n",
        "                data[:sample_start_idx] = sample[0]\n",
        "            if sample_end_idx < sequence_length:\n",
        "                data[sample_end_idx:] = sample[-1]\n",
        "            data[sample_start_idx:sample_end_idx] = sample\n",
        "        result[key] = data\n",
        "    return result\n",
        "\n",
        "# normalize data\n",
        "def get_data_stats(data):\n",
        "    data = data.reshape(-1,data.shape[-1])\n",
        "    stats = {\n",
        "        'min': np.min(data, axis=0),\n",
        "        'max': np.max(data, axis=0)\n",
        "    }\n",
        "    return stats\n",
        "\n",
        "def normalize_data(data, stats):\n",
        "    # nomalize to [0,1]\n",
        "    ndata = (data - stats['min']) / (stats['max'] - stats['min'])\n",
        "    # normalize to [-1, 1]\n",
        "    ndata = ndata * 2 - 1\n",
        "    return ndata\n",
        "\n",
        "def unnormalize_data(ndata, stats):\n",
        "    ndata = (ndata + 1) / 2\n",
        "    data = ndata * (stats['max'] - stats['min']) + stats['min']\n",
        "    return data\n",
        "\n",
        "# dataset\n",
        "class PushTStateDataset(torch.utils.data.Dataset):\n",
        "    def __init__(self, dataset_path,\n",
        "                 pred_horizon, obs_horizon, action_horizon):\n",
        "\n",
        "        # read from zarr dataset\n",
        "        dataset_root = zarr.open(dataset_path, 'r')\n",
        "        # All demonstration episodes are concatinated in the first dimension N\n",
        "        train_data = {\n",
        "            # (N, action_dim)\n",
        "            'action': dataset_root['data']['action'][:],\n",
        "            # (N, obs_dim)\n",
        "            'obs': dataset_root['data']['state'][:]\n",
        "        }\n",
        "        # Marks one-past the last index for each episode\n",
        "        episode_ends = dataset_root['meta']['episode_ends'][:]\n",
        "\n",
        "        # compute start and end of each state-action sequence\n",
        "        # also handles padding\n",
        "        indices = create_sample_indices(\n",
        "            episode_ends=episode_ends,\n",
        "            sequence_length=pred_horizon,\n",
        "            # add padding such that each timestep in the dataset are seen\n",
        "            pad_before=obs_horizon-1,\n",
        "            pad_after=action_horizon-1\n",
        "        )\n",
        "\n",
        "        # compute statistics and normalized data to [-1,1]\n",
        "        stats = dict()\n",
        "        normalized_train_data = dict()\n",
        "        for key, data in train_data.items():\n",
        "            stats[key] = get_data_stats(data)\n",
        "            normalized_train_data[key] = normalize_data(data, stats[key])\n",
        "\n",
        "        self.indices = indices\n",
        "        self.stats = stats\n",
        "        self.normalized_train_data = normalized_train_data\n",
        "        self.pred_horizon = pred_horizon\n",
        "        self.action_horizon = action_horizon\n",
        "        self.obs_horizon = obs_horizon\n",
        "\n",
        "    def __len__(self):\n",
        "        # all possible segments of the dataset\n",
        "        return len(self.indices)\n",
        "\n",
        "    def __getitem__(self, idx):\n",
        "        # get the start/end indices for this datapoint\n",
        "        buffer_start_idx, buffer_end_idx, \\\n",
        "            sample_start_idx, sample_end_idx = self.indices[idx]\n",
        "\n",
        "        # get nomralized data using these indices\n",
        "        nsample = sample_sequence(\n",
        "            train_data=self.normalized_train_data,\n",
        "            sequence_length=self.pred_horizon,\n",
        "            buffer_start_idx=buffer_start_idx,\n",
        "            buffer_end_idx=buffer_end_idx,\n",
        "            sample_start_idx=sample_start_idx,\n",
        "            sample_end_idx=sample_end_idx\n",
        "        )\n",
        "\n",
        "        # discard unused observations\n",
        "        nsample['obs'] = nsample['obs'][:self.obs_horizon,:]\n",
        "        return nsample\n"
      ]
    },
    {
      "cell_type": "code",
      "execution_count": null,
      "metadata": {
        "colab": {
          "base_uri": "https://localhost:8080/"
        },
        "id": "9ZiHF3lzvB6k",
        "outputId": "474315be-970f-4a47-ca7e-d27d92a1711f"
      },
      "outputs": [
        {
          "name": "stdout",
          "output_type": "stream",
          "text": [
            "batch['obs'].shape: torch.Size([256, 2, 5])\n",
            "batch['action'].shape torch.Size([256, 16, 2])\n"
          ]
        }
      ],
      "source": [
        "#@markdown ### **Dataset Demo**\n",
        "\n",
        "# download demonstration data from Google Drive\n",
        "dataset_path = \"pusht_cchi_v7_replay.zarr.zip\"\n",
        "if not os.path.isfile(dataset_path):\n",
        "    id = \"1KY1InLurpMvJDRb14L9NlXT_fEsCvVUq&confirm=t\"\n",
        "    gdown.download(id=id, output=dataset_path, quiet=False)\n",
        "\n",
        "# parameters\n",
        "pred_horizon = 16\n",
        "obs_horizon = 2\n",
        "action_horizon = 8\n",
        "#|o|o|                             observations: 2\n",
        "#| |a|a|a|a|a|a|a|a|               actions executed: 8\n",
        "#|p|p|p|p|p|p|p|p|p|p|p|p|p|p|p|p| actions predicted: 16\n",
        "\n",
        "# create dataset from file\n",
        "dataset = PushTStateDataset(\n",
        "    dataset_path=dataset_path,\n",
        "    pred_horizon=pred_horizon,\n",
        "    obs_horizon=obs_horizon,\n",
        "    action_horizon=action_horizon\n",
        ")\n",
        "# save training data statistics (min, max) for each dim\n",
        "stats = dataset.stats\n",
        "\n",
        "# create dataloader\n",
        "# Note: num_workers=0 to avoid multiprocessing issues in Jupyter notebooks\n",
        "dataloader = torch.utils.data.DataLoader(\n",
        "    dataset,\n",
        "    batch_size=256,\n",
        "    num_workers=0,  # Changed from 1 to 0 to avoid multiprocessing pickle errors\n",
        "    shuffle=True,\n",
        "    # accelerate cpu-gpu transfer\n",
        "    pin_memory=True\n",
        ")\n",
        "\n",
        "# visualize data in batch\n",
        "batch = next(iter(dataloader))\n",
        "print(\"batch['obs'].shape:\", batch['obs'].shape)\n",
        "print(\"batch['action'].shape\", batch['action'].shape)"
      ]
    },
    {
      "cell_type": "code",
      "execution_count": null,
      "metadata": {
        "cellView": "form",
        "id": "X-XRB_g3vsgf"
      },
      "outputs": [],
      "source": [
        "#@markdown ### **Network**\n",
        "#@markdown\n",
        "#@markdown Defines a 1D UNet architecture `ConditionalUnet1D`\n",
        "#@markdown as the noies prediction network\n",
        "#@markdown\n",
        "#@markdown Components\n",
        "#@markdown - `SinusoidalPosEmb` Positional encoding for the diffusion iteration k\n",
        "#@markdown - `Downsample1d` Strided convolution to reduce temporal resolution\n",
        "#@markdown - `Upsample1d` Transposed convolution to increase temporal resolution\n",
        "#@markdown - `Conv1dBlock` Conv1d --> GroupNorm --> Mish\n",
        "#@markdown - `ConditionalResidualBlock1D` Takes two inputs `x` and `cond`. \\\n",
        "#@markdown `x` is passed through 2 `Conv1dBlock` stacked together with residual connection.\n",
        "#@markdown `cond` is applied to `x` with [FiLM](https://arxiv.org/abs/1709.07871) conditioning.\n",
        "\n",
        "class SinusoidalPosEmb(nn.Module):\n",
        "    def __init__(self, dim):\n",
        "        super().__init__()\n",
        "        self.dim = dim\n",
        "\n",
        "    def forward(self, x):\n",
        "        device = x.device\n",
        "        half_dim = self.dim // 2\n",
        "        emb = math.log(10000) / (half_dim - 1)\n",
        "        emb = torch.exp(torch.arange(half_dim, device=device) * -emb)\n",
        "        emb = x[:, None] * emb[None, :]\n",
        "        emb = torch.cat((emb.sin(), emb.cos()), dim=-1)\n",
        "        return emb\n",
        "\n",
        "\n",
        "class Downsample1d(nn.Module):\n",
        "    def __init__(self, dim):\n",
        "        super().__init__()\n",
        "        self.conv = nn.Conv1d(dim, dim, 3, 2, 1)\n",
        "\n",
        "    def forward(self, x):\n",
        "        return self.conv(x)\n",
        "\n",
        "class Upsample1d(nn.Module):\n",
        "    def __init__(self, dim):\n",
        "        super().__init__()\n",
        "        self.conv = nn.ConvTranspose1d(dim, dim, 4, 2, 1)\n",
        "\n",
        "    def forward(self, x):\n",
        "        return self.conv(x)\n",
        "\n",
        "\n",
        "class Conv1dBlock(nn.Module):\n",
        "    '''\n",
        "        Conv1d --> GroupNorm --> Mish\n",
        "    '''\n",
        "\n",
        "    def __init__(self, inp_channels, out_channels, kernel_size, n_groups=8):\n",
        "        super().__init__()\n",
        "\n",
        "        self.block = nn.Sequential(\n",
        "            nn.Conv1d(inp_channels, out_channels, kernel_size, padding=kernel_size // 2),\n",
        "            nn.GroupNorm(n_groups, out_channels),\n",
        "            nn.Mish(),\n",
        "        )\n",
        "\n",
        "    def forward(self, x):\n",
        "        return self.block(x)\n",
        "\n",
        "\n",
        "class ConditionalResidualBlock1D(nn.Module):\n",
        "    def __init__(self,\n",
        "            in_channels,\n",
        "            out_channels,\n",
        "            cond_dim,\n",
        "            kernel_size=3,\n",
        "            n_groups=8):\n",
        "        super().__init__()\n",
        "\n",
        "        self.blocks = nn.ModuleList([\n",
        "            Conv1dBlock(in_channels, out_channels, kernel_size, n_groups=n_groups),\n",
        "            Conv1dBlock(out_channels, out_channels, kernel_size, n_groups=n_groups),\n",
        "        ])\n",
        "\n",
        "        # FiLM modulation https://arxiv.org/abs/1709.07871\n",
        "        # predicts per-channel scale and bias\n",
        "        cond_channels = out_channels * 2\n",
        "        self.out_channels = out_channels\n",
        "        self.cond_encoder = nn.Sequential(\n",
        "            nn.Mish(),\n",
        "            nn.Linear(cond_dim, cond_channels),\n",
        "            nn.Unflatten(-1, (-1, 1))\n",
        "        )\n",
        "\n",
        "        # make sure dimensions compatible\n",
        "        self.residual_conv = nn.Conv1d(in_channels, out_channels, 1) \\\n",
        "            if in_channels != out_channels else nn.Identity()\n",
        "\n",
        "    def forward(self, x, cond):\n",
        "        '''\n",
        "            x : [ batch_size x in_channels x horizon ]\n",
        "            cond : [ batch_size x cond_dim]\n",
        "\n",
        "            returns:\n",
        "            out : [ batch_size x out_channels x horizon ]\n",
        "        '''\n",
        "        out = self.blocks[0](x)\n",
        "        embed = self.cond_encoder(cond)\n",
        "\n",
        "        embed = embed.reshape(\n",
        "            embed.shape[0], 2, self.out_channels, 1)\n",
        "        scale = embed[:,0,...]\n",
        "        bias = embed[:,1,...]\n",
        "        out = scale * out + bias\n",
        "\n",
        "        out = self.blocks[1](out)\n",
        "        out = out + self.residual_conv(x)\n",
        "        return out\n",
        "\n",
        "\n",
        "class ConditionalUnet1D(nn.Module):\n",
        "    def __init__(self,\n",
        "        input_dim,\n",
        "        global_cond_dim,\n",
        "        diffusion_step_embed_dim=256,\n",
        "        down_dims=[256,512,1024],\n",
        "        kernel_size=5,\n",
        "        n_groups=8\n",
        "        ):\n",
        "        \"\"\"\n",
        "        input_dim: Dim of actions.\n",
        "        global_cond_dim: Dim of global conditioning applied with FiLM\n",
        "          in addition to diffusion step embedding. This is usually obs_horizon * obs_dim\n",
        "        diffusion_step_embed_dim: Size of positional encoding for diffusion iteration k\n",
        "        down_dims: Channel size for each UNet level.\n",
        "          The length of this array determines numebr of levels.\n",
        "        kernel_size: Conv kernel size\n",
        "        n_groups: Number of groups for GroupNorm\n",
        "        \"\"\"\n",
        "\n",
        "        super().__init__()\n",
        "        all_dims = [input_dim] + list(down_dims)\n",
        "        start_dim = down_dims[0]\n",
        "\n",
        "        dsed = diffusion_step_embed_dim\n",
        "        diffusion_step_encoder = nn.Sequential(\n",
        "            SinusoidalPosEmb(dsed),\n",
        "            nn.Linear(dsed, dsed * 4),\n",
        "            nn.Mish(),\n",
        "            nn.Linear(dsed * 4, dsed),\n",
        "        )\n",
        "        cond_dim = dsed + global_cond_dim\n",
        "\n",
        "        in_out = list(zip(all_dims[:-1], all_dims[1:]))\n",
        "        mid_dim = all_dims[-1]\n",
        "        self.mid_modules = nn.ModuleList([\n",
        "            ConditionalResidualBlock1D(\n",
        "                mid_dim, mid_dim, cond_dim=cond_dim,\n",
        "                kernel_size=kernel_size, n_groups=n_groups\n",
        "            ),\n",
        "            ConditionalResidualBlock1D(\n",
        "                mid_dim, mid_dim, cond_dim=cond_dim,\n",
        "                kernel_size=kernel_size, n_groups=n_groups\n",
        "            ),\n",
        "        ])\n",
        "\n",
        "        down_modules = nn.ModuleList([])\n",
        "        for ind, (dim_in, dim_out) in enumerate(in_out):\n",
        "            is_last = ind >= (len(in_out) - 1)\n",
        "            down_modules.append(nn.ModuleList([\n",
        "                ConditionalResidualBlock1D(\n",
        "                    dim_in, dim_out, cond_dim=cond_dim,\n",
        "                    kernel_size=kernel_size, n_groups=n_groups),\n",
        "                ConditionalResidualBlock1D(\n",
        "                    dim_out, dim_out, cond_dim=cond_dim,\n",
        "                    kernel_size=kernel_size, n_groups=n_groups),\n",
        "                Downsample1d(dim_out) if not is_last else nn.Identity()\n",
        "            ]))\n",
        "\n",
        "        up_modules = nn.ModuleList([])\n",
        "        for ind, (dim_in, dim_out) in enumerate(reversed(in_out[1:])):\n",
        "            is_last = ind >= (len(in_out) - 1)\n",
        "            up_modules.append(nn.ModuleList([\n",
        "                ConditionalResidualBlock1D(\n",
        "                    dim_out*2, dim_in, cond_dim=cond_dim,\n",
        "                    kernel_size=kernel_size, n_groups=n_groups),\n",
        "                ConditionalResidualBlock1D(\n",
        "                    dim_in, dim_in, cond_dim=cond_dim,\n",
        "                    kernel_size=kernel_size, n_groups=n_groups),\n",
        "                Upsample1d(dim_in) if not is_last else nn.Identity()\n",
        "            ]))\n",
        "\n",
        "        final_conv = nn.Sequential(\n",
        "            Conv1dBlock(start_dim, start_dim, kernel_size=kernel_size),\n",
        "            nn.Conv1d(start_dim, input_dim, 1),\n",
        "        )\n",
        "\n",
        "        self.diffusion_step_encoder = diffusion_step_encoder\n",
        "        self.up_modules = up_modules\n",
        "        self.down_modules = down_modules\n",
        "        self.final_conv = final_conv\n",
        "\n",
        "        print(\"number of parameters: {:e}\".format(\n",
        "            sum(p.numel() for p in self.parameters()))\n",
        "        )\n",
        "\n",
        "    def forward(self,\n",
        "            sample: torch.Tensor,\n",
        "            timestep: Union[torch.Tensor, float, int],\n",
        "            global_cond=None\n",
        "    ):\n",
        "        \"\"\"\n",
        "        x: (B,T,input_dim)\n",
        "        timestep: (B,) or int, diffusion step\n",
        "        global_cond: (B,global_cond_dim)\n",
        "        output: (B,T,input_dim)\n",
        "        \"\"\"\n",
        "        # (B,T,C)\n",
        "        sample = sample.moveaxis(-1,-2)\n",
        "        # (B,C,T)\n",
        "\n",
        "        # 1. time\n",
        "        timesteps = timestep\n",
        "        if not torch.is_tensor(timesteps):\n",
        "            # TODO: this requires sync between CPU and GPU. So try to pass timesteps as tensors if you can\n",
        "            timesteps = torch.tensor([timesteps], dtype=torch.long, device=sample.device)\n",
        "        elif torch.is_tensor(timesteps) and len(timesteps.shape) == 0:\n",
        "            timesteps = timesteps[None].to(sample.device)\n",
        "        # broadcast to batch dimension in a way that's compatible with ONNX/Core ML\n",
        "        timesteps = timesteps.expand(sample.shape[0])\n",
        "\n",
        "        global_feature = self.diffusion_step_encoder(timesteps)\n",
        "\n",
        "        if global_cond is not None:\n",
        "            global_feature = torch.cat([\n",
        "                global_feature, global_cond\n",
        "            ], axis=-1)\n",
        "\n",
        "        x = sample\n",
        "        h = []\n",
        "        for idx, (resnet, resnet2, downsample) in enumerate(self.down_modules):\n",
        "            x = resnet(x, global_feature)\n",
        "            x = resnet2(x, global_feature)\n",
        "            h.append(x)\n",
        "            x = downsample(x)\n",
        "\n",
        "        for mid_module in self.mid_modules:\n",
        "            x = mid_module(x, global_feature)\n",
        "\n",
        "        for idx, (resnet, resnet2, upsample) in enumerate(self.up_modules):\n",
        "            x = torch.cat((x, h.pop()), dim=1)\n",
        "            x = resnet(x, global_feature)\n",
        "            x = resnet2(x, global_feature)\n",
        "            x = upsample(x)\n",
        "\n",
        "        x = self.final_conv(x)\n",
        "\n",
        "        # (B,C,T)\n",
        "        x = x.moveaxis(-1,-2)\n",
        "        # (B,T,C)\n",
        "        return x\n"
      ]
    },
    {
      "cell_type": "code",
      "execution_count": null,
      "metadata": {
        "colab": {
          "base_uri": "https://localhost:8080/"
        },
        "id": "4APZkqh336-M",
        "outputId": "51fbbfb0-deaf-48bd-cf4b-dc7f8f4ff246"
      },
      "outputs": [
        {
          "name": "stdout",
          "output_type": "stream",
          "text": [
            "number of parameters: 6.535322e+07\n",
            "Using device: mps\n"
          ]
        }
      ],
      "source": [
        "#@markdown ### **Network Demo**\n",
        "\n",
        "# observation and action dimensions corrsponding to\n",
        "# the output of PushTEnv\n",
        "obs_dim = 5\n",
        "action_dim = 2\n",
        "\n",
        "# create network object\n",
        "noise_pred_net = ConditionalUnet1D(\n",
        "    input_dim=action_dim,\n",
        "    global_cond_dim=obs_dim*obs_horizon\n",
        ")\n",
        "\n",
        "# example inputs\n",
        "noised_action = torch.randn((1, pred_horizon, action_dim))\n",
        "print(\"noised_action.shape:\", noised_action.shape)\n",
        "obs = torch.zeros((1, obs_horizon, obs_dim))\n",
        "print(\"obs.shape:\", obs.shape)\n",
        "diffusion_iter = torch.zeros((1,))\n",
        "\n",
        "# the noise prediction network\n",
        "# takes noisy action, diffusion iteration and observation as input\n",
        "# predicts the noise added to action\n",
        "noise = noise_pred_net(\n",
        "    sample=noised_action,\n",
        "    timestep=diffusion_iter,\n",
        "    global_cond=obs.flatten(start_dim=1)\n",
        ")\n",
        "\n",
        "# illustration of removing noise\n",
        "# the actual noise removal is performed by NoiseScheduler\n",
        "# and is dependent on the diffusion noise schedule\n",
        "denoised_action = noised_action - noise\n",
        "\n",
        "# for this demo, we use DDPMScheduler with 100 diffusion iterations\n",
        "num_diffusion_iters = 100\n",
        "noise_scheduler = DDPMScheduler(\n",
        "    num_train_timesteps=num_diffusion_iters,\n",
        "    # the choise of beta schedule has big impact on performance\n",
        "    # we found squared cosine works the best\n",
        "    beta_schedule='squaredcos_cap_v2',\n",
        "    # clip output to [-1,1] to improve stability\n",
        "    clip_sample=True,\n",
        "    # our network predicts noise (instead of denoised action)\n",
        "    prediction_type='epsilon'\n",
        ")\n",
        "\n",
        "# device transfer\n",
        "device = torch.device('mps') if torch.backends.mps.is_available() else torch.device('cuda' if torch.cuda.is_available() else 'cpu')\n",
        "print(\"Using device:\", device)\n",
        "_ = noise_pred_net.to(device)"
      ]
    },
    {
      "cell_type": "code",
      "execution_count": 24,
      "metadata": {
        "colab": {
          "base_uri": "https://localhost:8080/",
          "height": 49,
          "referenced_widgets": [
            "c29b0972b22d4dc59844ea958abf7bd1",
            "df7b2e7c39944341be1a091331fd7cc6",
            "0d687f5624cb4871ad167ebcbcb4c148",
            "82a5a8a6be3a41209de270d5072838a2",
            "6d4dfa99470e40559bebd6689305f155",
            "0964ed28f2794bdf91e2e2756aae3bc4",
            "1939a1c3cc7a498fa5f05ac737b0af99",
            "116ecf0deb6e44faadb594f2f982c4c2",
            "2db415245cbb44c8ab5c208be328fc16",
            "ed0c7c76b76d40c9b25ca92abb00cf34",
            "3a5463e9f9864ca2b52fe9cd28f4a8b8",
            "5352c2178612408aa84a3732d98a62ea",
            "f451b98692b64b54a0e8a3643a9bf992",
            "36c1a61163804f9a825638c6c8d962ed",
            "c2d84f324ecd4789b9b3420591f6186d",
            "6d4ec5c2f9624d398f0d9fc27d84cadb",
            "019444645b164b92a8da32e94a443d7e",
            "83bd2cb0ca534108804cdc298d8b26c6",
            "a26e0dce0a86491db71a731f570f1a80",
            "fe61754736d04d539c3f941049b5922a",
            "657a261a272d466e8bfd532279a401a1",
            "5b6eaafac1574f7481e3bb2e20e598b3"
          ]
        },
        "id": "93E9RdnR4D8v",
        "outputId": "51c50846-28b7-408c-c1d9-cd34154b57f1"
      },
      "outputs": [
        {
          "data": {
            "application/vnd.jupyter.widget-view+json": {
              "model_id": "9bb3ddbc87a244dd80c944ab1eefd1fe",
              "version_major": 2,
              "version_minor": 0
            },
            "text/plain": [
              "Epoch:   0%|          | 0/100 [00:00<?, ?it/s]"
            ]
          },
          "metadata": {},
          "output_type": "display_data"
        },
        {
          "name": "stderr",
          "output_type": "stream",
          "text": [
            "/Users/maximilianstoelzle/miniconda3/envs/diffusion-policy/lib/python3.10/site-packages/torch/utils/data/dataloader.py:683: UserWarning: 'pin_memory' argument is set as true but not supported on MPS now, then device pinned memory won't be used.\n",
            "  warnings.warn(warn_msg)\n"
          ]
        },
        {
          "data": {
            "application/vnd.jupyter.widget-view+json": {
              "model_id": "8cee33179f3c48b3bc174d5f9202e217",
              "version_major": 2,
              "version_minor": 0
            },
            "text/plain": [
              "Batch:   0%|          | 0/95 [00:00<?, ?it/s]"
            ]
          },
          "metadata": {},
          "output_type": "display_data"
        },
        {
          "data": {
            "application/vnd.jupyter.widget-view+json": {
              "model_id": "0cbba28e01a84a1aa9709348548357d2",
              "version_major": 2,
              "version_minor": 0
            },
            "text/plain": [
              "Batch:   0%|          | 0/95 [00:00<?, ?it/s]"
            ]
          },
          "metadata": {},
          "output_type": "display_data"
        },
        {
          "data": {
            "application/vnd.jupyter.widget-view+json": {
              "model_id": "aa68780345504ea3aeba7840fd9cfbab",
              "version_major": 2,
              "version_minor": 0
            },
            "text/plain": [
              "Batch:   0%|          | 0/95 [00:00<?, ?it/s]"
            ]
          },
          "metadata": {},
          "output_type": "display_data"
        },
        {
          "data": {
            "application/vnd.jupyter.widget-view+json": {
              "model_id": "a191d41f9ebe4561ba762a8a02df2b5f",
              "version_major": 2,
              "version_minor": 0
            },
            "text/plain": [
              "Batch:   0%|          | 0/95 [00:00<?, ?it/s]"
            ]
          },
          "metadata": {},
          "output_type": "display_data"
        },
        {
          "data": {
            "application/vnd.jupyter.widget-view+json": {
              "model_id": "6d01f2dc81314ff28b455ccfdf02076b",
              "version_major": 2,
              "version_minor": 0
            },
            "text/plain": [
              "Batch:   0%|          | 0/95 [00:00<?, ?it/s]"
            ]
          },
          "metadata": {},
          "output_type": "display_data"
        },
        {
          "data": {
            "application/vnd.jupyter.widget-view+json": {
              "model_id": "bab36a9b1da9493ba3bf7121306d1742",
              "version_major": 2,
              "version_minor": 0
            },
            "text/plain": [
              "Batch:   0%|          | 0/95 [00:00<?, ?it/s]"
            ]
          },
          "metadata": {},
          "output_type": "display_data"
        },
        {
          "data": {
            "application/vnd.jupyter.widget-view+json": {
              "model_id": "b7a20f7038c843bdb38787931821044b",
              "version_major": 2,
              "version_minor": 0
            },
            "text/plain": [
              "Batch:   0%|          | 0/95 [00:00<?, ?it/s]"
            ]
          },
          "metadata": {},
          "output_type": "display_data"
        },
        {
          "data": {
            "application/vnd.jupyter.widget-view+json": {
              "model_id": "ca0e14c15c3444e2847222cd86e6adc4",
              "version_major": 2,
              "version_minor": 0
            },
            "text/plain": [
              "Batch:   0%|          | 0/95 [00:00<?, ?it/s]"
            ]
          },
          "metadata": {},
          "output_type": "display_data"
        },
        {
          "data": {
            "application/vnd.jupyter.widget-view+json": {
              "model_id": "76b089125b474de488679e258edc2984",
              "version_major": 2,
              "version_minor": 0
            },
            "text/plain": [
              "Batch:   0%|          | 0/95 [00:00<?, ?it/s]"
            ]
          },
          "metadata": {},
          "output_type": "display_data"
        },
        {
          "data": {
            "application/vnd.jupyter.widget-view+json": {
              "model_id": "41998becda6248098daa0e403034552f",
              "version_major": 2,
              "version_minor": 0
            },
            "text/plain": [
              "Batch:   0%|          | 0/95 [00:00<?, ?it/s]"
            ]
          },
          "metadata": {},
          "output_type": "display_data"
        },
        {
          "data": {
            "application/vnd.jupyter.widget-view+json": {
              "model_id": "58aa39025e0f4e6c93e2fb89869ca6be",
              "version_major": 2,
              "version_minor": 0
            },
            "text/plain": [
              "Batch:   0%|          | 0/95 [00:00<?, ?it/s]"
            ]
          },
          "metadata": {},
          "output_type": "display_data"
        },
        {
          "data": {
            "application/vnd.jupyter.widget-view+json": {
              "model_id": "2a1072073373423d90052ccaa1f57819",
              "version_major": 2,
              "version_minor": 0
            },
            "text/plain": [
              "Batch:   0%|          | 0/95 [00:00<?, ?it/s]"
            ]
          },
          "metadata": {},
          "output_type": "display_data"
        },
        {
          "data": {
            "application/vnd.jupyter.widget-view+json": {
              "model_id": "9be193c8302348c4937fac63633becd1",
              "version_major": 2,
              "version_minor": 0
            },
            "text/plain": [
              "Batch:   0%|          | 0/95 [00:00<?, ?it/s]"
            ]
          },
          "metadata": {},
          "output_type": "display_data"
        },
        {
          "data": {
            "application/vnd.jupyter.widget-view+json": {
              "model_id": "e525ae0ee68f48f4add6b94c130f95f7",
              "version_major": 2,
              "version_minor": 0
            },
            "text/plain": [
              "Batch:   0%|          | 0/95 [00:00<?, ?it/s]"
            ]
          },
          "metadata": {},
          "output_type": "display_data"
        },
        {
          "data": {
            "application/vnd.jupyter.widget-view+json": {
              "model_id": "79d3cf87600d45f185625e9aede60ddf",
              "version_major": 2,
              "version_minor": 0
            },
            "text/plain": [
              "Batch:   0%|          | 0/95 [00:00<?, ?it/s]"
            ]
          },
          "metadata": {},
          "output_type": "display_data"
        },
        {
          "data": {
            "application/vnd.jupyter.widget-view+json": {
              "model_id": "2c6c500176e64bc7939bfc46d3a9cf4d",
              "version_major": 2,
              "version_minor": 0
            },
            "text/plain": [
              "Batch:   0%|          | 0/95 [00:00<?, ?it/s]"
            ]
          },
          "metadata": {},
          "output_type": "display_data"
        },
        {
          "data": {
            "application/vnd.jupyter.widget-view+json": {
              "model_id": "faf0d295f0de40348708e418a5d92989",
              "version_major": 2,
              "version_minor": 0
            },
            "text/plain": [
              "Batch:   0%|          | 0/95 [00:00<?, ?it/s]"
            ]
          },
          "metadata": {},
          "output_type": "display_data"
        },
        {
          "data": {
            "application/vnd.jupyter.widget-view+json": {
              "model_id": "9ca802c9dc4c454c9150b506a6e17a76",
              "version_major": 2,
              "version_minor": 0
            },
            "text/plain": [
              "Batch:   0%|          | 0/95 [00:00<?, ?it/s]"
            ]
          },
          "metadata": {},
          "output_type": "display_data"
        },
        {
          "data": {
            "application/vnd.jupyter.widget-view+json": {
              "model_id": "eab07f2e29ab47bab4b25b00b7f0bc7d",
              "version_major": 2,
              "version_minor": 0
            },
            "text/plain": [
              "Batch:   0%|          | 0/95 [00:00<?, ?it/s]"
            ]
          },
          "metadata": {},
          "output_type": "display_data"
        },
        {
          "data": {
            "application/vnd.jupyter.widget-view+json": {
              "model_id": "09fabb84192b4ee293dba1ee55e02ae3",
              "version_major": 2,
              "version_minor": 0
            },
            "text/plain": [
              "Batch:   0%|          | 0/95 [00:00<?, ?it/s]"
            ]
          },
          "metadata": {},
          "output_type": "display_data"
        },
        {
          "data": {
            "application/vnd.jupyter.widget-view+json": {
              "model_id": "df2ed69d477640d39953e8e344855b31",
              "version_major": 2,
              "version_minor": 0
            },
            "text/plain": [
              "Batch:   0%|          | 0/95 [00:00<?, ?it/s]"
            ]
          },
          "metadata": {},
          "output_type": "display_data"
        },
        {
          "data": {
            "application/vnd.jupyter.widget-view+json": {
              "model_id": "f73629a18fd945bb9ec0870ce3dea98c",
              "version_major": 2,
              "version_minor": 0
            },
            "text/plain": [
              "Batch:   0%|          | 0/95 [00:00<?, ?it/s]"
            ]
          },
          "metadata": {},
          "output_type": "display_data"
        },
        {
          "data": {
            "application/vnd.jupyter.widget-view+json": {
              "model_id": "a7a605e24fe54ee1ba5484f4009410cc",
              "version_major": 2,
              "version_minor": 0
            },
            "text/plain": [
              "Batch:   0%|          | 0/95 [00:00<?, ?it/s]"
            ]
          },
          "metadata": {},
          "output_type": "display_data"
        },
        {
          "data": {
            "application/vnd.jupyter.widget-view+json": {
              "model_id": "8c60582e072346519edc21d922da72a0",
              "version_major": 2,
              "version_minor": 0
            },
            "text/plain": [
              "Batch:   0%|          | 0/95 [00:00<?, ?it/s]"
            ]
          },
          "metadata": {},
          "output_type": "display_data"
        },
        {
          "data": {
            "application/vnd.jupyter.widget-view+json": {
              "model_id": "54005db90a2d47feb13f633a4ebf3495",
              "version_major": 2,
              "version_minor": 0
            },
            "text/plain": [
              "Batch:   0%|          | 0/95 [00:00<?, ?it/s]"
            ]
          },
          "metadata": {},
          "output_type": "display_data"
        },
        {
          "data": {
            "application/vnd.jupyter.widget-view+json": {
              "model_id": "f476a67c452e482ea8e9080691db503f",
              "version_major": 2,
              "version_minor": 0
            },
            "text/plain": [
              "Batch:   0%|          | 0/95 [00:00<?, ?it/s]"
            ]
          },
          "metadata": {},
          "output_type": "display_data"
        },
        {
          "data": {
            "application/vnd.jupyter.widget-view+json": {
              "model_id": "62fe481004ab4c16ae8d5c23653dcf8c",
              "version_major": 2,
              "version_minor": 0
            },
            "text/plain": [
              "Batch:   0%|          | 0/95 [00:00<?, ?it/s]"
            ]
          },
          "metadata": {},
          "output_type": "display_data"
        },
        {
          "data": {
            "application/vnd.jupyter.widget-view+json": {
              "model_id": "346ce855ad6a4fb3a28050523753cf50",
              "version_major": 2,
              "version_minor": 0
            },
            "text/plain": [
              "Batch:   0%|          | 0/95 [00:00<?, ?it/s]"
            ]
          },
          "metadata": {},
          "output_type": "display_data"
        },
        {
          "data": {
            "application/vnd.jupyter.widget-view+json": {
              "model_id": "ba85bcc1afb14ab988b7955f24a3d971",
              "version_major": 2,
              "version_minor": 0
            },
            "text/plain": [
              "Batch:   0%|          | 0/95 [00:00<?, ?it/s]"
            ]
          },
          "metadata": {},
          "output_type": "display_data"
        },
        {
          "data": {
            "application/vnd.jupyter.widget-view+json": {
              "model_id": "ecc2690af3c44928b5f0aea9d056c91e",
              "version_major": 2,
              "version_minor": 0
            },
            "text/plain": [
              "Batch:   0%|          | 0/95 [00:00<?, ?it/s]"
            ]
          },
          "metadata": {},
          "output_type": "display_data"
        },
        {
          "data": {
            "application/vnd.jupyter.widget-view+json": {
              "model_id": "3059628ff01345aabd0f5b1891588135",
              "version_major": 2,
              "version_minor": 0
            },
            "text/plain": [
              "Batch:   0%|          | 0/95 [00:00<?, ?it/s]"
            ]
          },
          "metadata": {},
          "output_type": "display_data"
        },
        {
          "data": {
            "application/vnd.jupyter.widget-view+json": {
              "model_id": "a7bbb7a2bcc842d0993926c3f1c92a15",
              "version_major": 2,
              "version_minor": 0
            },
            "text/plain": [
              "Batch:   0%|          | 0/95 [00:00<?, ?it/s]"
            ]
          },
          "metadata": {},
          "output_type": "display_data"
        },
        {
          "data": {
            "application/vnd.jupyter.widget-view+json": {
              "model_id": "b13585b0d4c84fb1b85dd075d31bfba9",
              "version_major": 2,
              "version_minor": 0
            },
            "text/plain": [
              "Batch:   0%|          | 0/95 [00:00<?, ?it/s]"
            ]
          },
          "metadata": {},
          "output_type": "display_data"
        },
        {
          "data": {
            "application/vnd.jupyter.widget-view+json": {
              "model_id": "2f444a2cb99542b9bd0f66be8ffcdba1",
              "version_major": 2,
              "version_minor": 0
            },
            "text/plain": [
              "Batch:   0%|          | 0/95 [00:00<?, ?it/s]"
            ]
          },
          "metadata": {},
          "output_type": "display_data"
        },
        {
          "data": {
            "application/vnd.jupyter.widget-view+json": {
              "model_id": "2e059bd99c4043b69841c087babee89f",
              "version_major": 2,
              "version_minor": 0
            },
            "text/plain": [
              "Batch:   0%|          | 0/95 [00:00<?, ?it/s]"
            ]
          },
          "metadata": {},
          "output_type": "display_data"
        },
        {
          "data": {
            "application/vnd.jupyter.widget-view+json": {
              "model_id": "02028539dc4447f787c5193c05a01317",
              "version_major": 2,
              "version_minor": 0
            },
            "text/plain": [
              "Batch:   0%|          | 0/95 [00:00<?, ?it/s]"
            ]
          },
          "metadata": {},
          "output_type": "display_data"
        },
        {
          "data": {
            "application/vnd.jupyter.widget-view+json": {
              "model_id": "42e3eb94e6604f4e8fc6db4429e675a7",
              "version_major": 2,
              "version_minor": 0
            },
            "text/plain": [
              "Batch:   0%|          | 0/95 [00:00<?, ?it/s]"
            ]
          },
          "metadata": {},
          "output_type": "display_data"
        },
        {
          "data": {
            "application/vnd.jupyter.widget-view+json": {
              "model_id": "c706e814cf0a4b5e81c7145a24ed8ad6",
              "version_major": 2,
              "version_minor": 0
            },
            "text/plain": [
              "Batch:   0%|          | 0/95 [00:00<?, ?it/s]"
            ]
          },
          "metadata": {},
          "output_type": "display_data"
        },
        {
          "data": {
            "application/vnd.jupyter.widget-view+json": {
              "model_id": "066645aedc224480bf919c2c04a4994e",
              "version_major": 2,
              "version_minor": 0
            },
            "text/plain": [
              "Batch:   0%|          | 0/95 [00:00<?, ?it/s]"
            ]
          },
          "metadata": {},
          "output_type": "display_data"
        },
        {
          "data": {
            "application/vnd.jupyter.widget-view+json": {
              "model_id": "0e4f5fbd85c54975abfc0752cf7fc2ac",
              "version_major": 2,
              "version_minor": 0
            },
            "text/plain": [
              "Batch:   0%|          | 0/95 [00:00<?, ?it/s]"
            ]
          },
          "metadata": {},
          "output_type": "display_data"
        },
        {
          "data": {
            "application/vnd.jupyter.widget-view+json": {
              "model_id": "237535db42e1482086965bd5e4582b36",
              "version_major": 2,
              "version_minor": 0
            },
            "text/plain": [
              "Batch:   0%|          | 0/95 [00:00<?, ?it/s]"
            ]
          },
          "metadata": {},
          "output_type": "display_data"
        },
        {
          "data": {
            "application/vnd.jupyter.widget-view+json": {
              "model_id": "2970de06167140a7b37392cfefffaaa9",
              "version_major": 2,
              "version_minor": 0
            },
            "text/plain": [
              "Batch:   0%|          | 0/95 [00:00<?, ?it/s]"
            ]
          },
          "metadata": {},
          "output_type": "display_data"
        },
        {
          "data": {
            "application/vnd.jupyter.widget-view+json": {
              "model_id": "298120a268a14aa6894f1ca0b7538611",
              "version_major": 2,
              "version_minor": 0
            },
            "text/plain": [
              "Batch:   0%|          | 0/95 [00:00<?, ?it/s]"
            ]
          },
          "metadata": {},
          "output_type": "display_data"
        },
        {
          "data": {
            "application/vnd.jupyter.widget-view+json": {
              "model_id": "6dd8bb31dba147ef8d4b1c33d6cce639",
              "version_major": 2,
              "version_minor": 0
            },
            "text/plain": [
              "Batch:   0%|          | 0/95 [00:00<?, ?it/s]"
            ]
          },
          "metadata": {},
          "output_type": "display_data"
        },
        {
          "data": {
            "application/vnd.jupyter.widget-view+json": {
              "model_id": "6ef6acd26c18497faa6396afc1ff9c9d",
              "version_major": 2,
              "version_minor": 0
            },
            "text/plain": [
              "Batch:   0%|          | 0/95 [00:00<?, ?it/s]"
            ]
          },
          "metadata": {},
          "output_type": "display_data"
        },
        {
          "data": {
            "application/vnd.jupyter.widget-view+json": {
              "model_id": "8c86bf70b11c4a85961794022d900ad3",
              "version_major": 2,
              "version_minor": 0
            },
            "text/plain": [
              "Batch:   0%|          | 0/95 [00:00<?, ?it/s]"
            ]
          },
          "metadata": {},
          "output_type": "display_data"
        },
        {
          "data": {
            "application/vnd.jupyter.widget-view+json": {
              "model_id": "d2a8a9960ee446eaabbd96a2aa22c29c",
              "version_major": 2,
              "version_minor": 0
            },
            "text/plain": [
              "Batch:   0%|          | 0/95 [00:00<?, ?it/s]"
            ]
          },
          "metadata": {},
          "output_type": "display_data"
        },
        {
          "data": {
            "application/vnd.jupyter.widget-view+json": {
              "model_id": "d54d45e26555452a9f9c4fd3e0088de8",
              "version_major": 2,
              "version_minor": 0
            },
            "text/plain": [
              "Batch:   0%|          | 0/95 [00:00<?, ?it/s]"
            ]
          },
          "metadata": {},
          "output_type": "display_data"
        },
        {
          "data": {
            "application/vnd.jupyter.widget-view+json": {
              "model_id": "57ba50ce22664668a38977d0c02c08d9",
              "version_major": 2,
              "version_minor": 0
            },
            "text/plain": [
              "Batch:   0%|          | 0/95 [00:00<?, ?it/s]"
            ]
          },
          "metadata": {},
          "output_type": "display_data"
        },
        {
          "data": {
            "application/vnd.jupyter.widget-view+json": {
              "model_id": "8aca1bb1e7ad40dd801e9cb173d73102",
              "version_major": 2,
              "version_minor": 0
            },
            "text/plain": [
              "Batch:   0%|          | 0/95 [00:00<?, ?it/s]"
            ]
          },
          "metadata": {},
          "output_type": "display_data"
        },
        {
          "data": {
            "application/vnd.jupyter.widget-view+json": {
              "model_id": "df033c31b14c40f4afa0fc68dedaafb5",
              "version_major": 2,
              "version_minor": 0
            },
            "text/plain": [
              "Batch:   0%|          | 0/95 [00:00<?, ?it/s]"
            ]
          },
          "metadata": {},
          "output_type": "display_data"
        },
        {
          "data": {
            "application/vnd.jupyter.widget-view+json": {
              "model_id": "3c5b2d15786244cd9c4771b75158ece1",
              "version_major": 2,
              "version_minor": 0
            },
            "text/plain": [
              "Batch:   0%|          | 0/95 [00:00<?, ?it/s]"
            ]
          },
          "metadata": {},
          "output_type": "display_data"
        },
        {
          "data": {
            "application/vnd.jupyter.widget-view+json": {
              "model_id": "f4bdd46583b34d249a720199d14551c5",
              "version_major": 2,
              "version_minor": 0
            },
            "text/plain": [
              "Batch:   0%|          | 0/95 [00:00<?, ?it/s]"
            ]
          },
          "metadata": {},
          "output_type": "display_data"
        },
        {
          "data": {
            "application/vnd.jupyter.widget-view+json": {
              "model_id": "e35c23fe479e46c9852484643cd7424f",
              "version_major": 2,
              "version_minor": 0
            },
            "text/plain": [
              "Batch:   0%|          | 0/95 [00:00<?, ?it/s]"
            ]
          },
          "metadata": {},
          "output_type": "display_data"
        },
        {
          "data": {
            "application/vnd.jupyter.widget-view+json": {
              "model_id": "deacf2c5f260457899aea7ff777c6508",
              "version_major": 2,
              "version_minor": 0
            },
            "text/plain": [
              "Batch:   0%|          | 0/95 [00:00<?, ?it/s]"
            ]
          },
          "metadata": {},
          "output_type": "display_data"
        },
        {
          "data": {
            "application/vnd.jupyter.widget-view+json": {
              "model_id": "1d73b84a9ef64e00917f25116cf94f7a",
              "version_major": 2,
              "version_minor": 0
            },
            "text/plain": [
              "Batch:   0%|          | 0/95 [00:00<?, ?it/s]"
            ]
          },
          "metadata": {},
          "output_type": "display_data"
        },
        {
          "data": {
            "application/vnd.jupyter.widget-view+json": {
              "model_id": "3954bcdba706448f8b68528b25935967",
              "version_major": 2,
              "version_minor": 0
            },
            "text/plain": [
              "Batch:   0%|          | 0/95 [00:00<?, ?it/s]"
            ]
          },
          "metadata": {},
          "output_type": "display_data"
        },
        {
          "data": {
            "application/vnd.jupyter.widget-view+json": {
              "model_id": "6e8ca8a349414bfa94fef14d2c3cb91a",
              "version_major": 2,
              "version_minor": 0
            },
            "text/plain": [
              "Batch:   0%|          | 0/95 [00:00<?, ?it/s]"
            ]
          },
          "metadata": {},
          "output_type": "display_data"
        },
        {
          "data": {
            "application/vnd.jupyter.widget-view+json": {
              "model_id": "e658791dafeb4a178f62372dddec89e5",
              "version_major": 2,
              "version_minor": 0
            },
            "text/plain": [
              "Batch:   0%|          | 0/95 [00:00<?, ?it/s]"
            ]
          },
          "metadata": {},
          "output_type": "display_data"
        },
        {
          "data": {
            "application/vnd.jupyter.widget-view+json": {
              "model_id": "3ee7f4f975984348a2abb4a68e87953c",
              "version_major": 2,
              "version_minor": 0
            },
            "text/plain": [
              "Batch:   0%|          | 0/95 [00:00<?, ?it/s]"
            ]
          },
          "metadata": {},
          "output_type": "display_data"
        },
        {
          "data": {
            "application/vnd.jupyter.widget-view+json": {
              "model_id": "5410f3f5d0174cc5a643d9404dbd2b60",
              "version_major": 2,
              "version_minor": 0
            },
            "text/plain": [
              "Batch:   0%|          | 0/95 [00:00<?, ?it/s]"
            ]
          },
          "metadata": {},
          "output_type": "display_data"
        },
        {
          "data": {
            "application/vnd.jupyter.widget-view+json": {
              "model_id": "f2a7b2f11e5f41c2b8c9fc865ac311b0",
              "version_major": 2,
              "version_minor": 0
            },
            "text/plain": [
              "Batch:   0%|          | 0/95 [00:00<?, ?it/s]"
            ]
          },
          "metadata": {},
          "output_type": "display_data"
        },
        {
          "data": {
            "application/vnd.jupyter.widget-view+json": {
              "model_id": "8ace23df08754b59823252b6531f2c90",
              "version_major": 2,
              "version_minor": 0
            },
            "text/plain": [
              "Batch:   0%|          | 0/95 [00:00<?, ?it/s]"
            ]
          },
          "metadata": {},
          "output_type": "display_data"
        },
        {
          "data": {
            "application/vnd.jupyter.widget-view+json": {
              "model_id": "b379cf61f25146a9ac9de2f7a31b30d3",
              "version_major": 2,
              "version_minor": 0
            },
            "text/plain": [
              "Batch:   0%|          | 0/95 [00:00<?, ?it/s]"
            ]
          },
          "metadata": {},
          "output_type": "display_data"
        },
        {
          "data": {
            "application/vnd.jupyter.widget-view+json": {
              "model_id": "696370530928419784f0b189bb4e2647",
              "version_major": 2,
              "version_minor": 0
            },
            "text/plain": [
              "Batch:   0%|          | 0/95 [00:00<?, ?it/s]"
            ]
          },
          "metadata": {},
          "output_type": "display_data"
        },
        {
          "data": {
            "application/vnd.jupyter.widget-view+json": {
              "model_id": "218818092dbf4d3fb134f01c35a4b309",
              "version_major": 2,
              "version_minor": 0
            },
            "text/plain": [
              "Batch:   0%|          | 0/95 [00:00<?, ?it/s]"
            ]
          },
          "metadata": {},
          "output_type": "display_data"
        },
        {
          "data": {
            "application/vnd.jupyter.widget-view+json": {
              "model_id": "a445813fc6b34957bb4c993ae2d3d004",
              "version_major": 2,
              "version_minor": 0
            },
            "text/plain": [
              "Batch:   0%|          | 0/95 [00:00<?, ?it/s]"
            ]
          },
          "metadata": {},
          "output_type": "display_data"
        },
        {
          "data": {
            "application/vnd.jupyter.widget-view+json": {
              "model_id": "2ce5a99bc8dd483a9d61f2b46a45de53",
              "version_major": 2,
              "version_minor": 0
            },
            "text/plain": [
              "Batch:   0%|          | 0/95 [00:00<?, ?it/s]"
            ]
          },
          "metadata": {},
          "output_type": "display_data"
        },
        {
          "data": {
            "application/vnd.jupyter.widget-view+json": {
              "model_id": "06cd58f7ef3647e4a7e8aee26e984902",
              "version_major": 2,
              "version_minor": 0
            },
            "text/plain": [
              "Batch:   0%|          | 0/95 [00:00<?, ?it/s]"
            ]
          },
          "metadata": {},
          "output_type": "display_data"
        },
        {
          "data": {
            "application/vnd.jupyter.widget-view+json": {
              "model_id": "1a9a0846c3d341fc99dad0a8baf0faf7",
              "version_major": 2,
              "version_minor": 0
            },
            "text/plain": [
              "Batch:   0%|          | 0/95 [00:00<?, ?it/s]"
            ]
          },
          "metadata": {},
          "output_type": "display_data"
        },
        {
          "data": {
            "application/vnd.jupyter.widget-view+json": {
              "model_id": "545ba1e7367d4efd9ec3ad72fc6d77c6",
              "version_major": 2,
              "version_minor": 0
            },
            "text/plain": [
              "Batch:   0%|          | 0/95 [00:00<?, ?it/s]"
            ]
          },
          "metadata": {},
          "output_type": "display_data"
        },
        {
          "data": {
            "application/vnd.jupyter.widget-view+json": {
              "model_id": "58801cc7c6174cf98ab951aa0ebbaa29",
              "version_major": 2,
              "version_minor": 0
            },
            "text/plain": [
              "Batch:   0%|          | 0/95 [00:00<?, ?it/s]"
            ]
          },
          "metadata": {},
          "output_type": "display_data"
        },
        {
          "data": {
            "application/vnd.jupyter.widget-view+json": {
              "model_id": "604e5189b19b4c93acc13d9f8b0e6940",
              "version_major": 2,
              "version_minor": 0
            },
            "text/plain": [
              "Batch:   0%|          | 0/95 [00:00<?, ?it/s]"
            ]
          },
          "metadata": {},
          "output_type": "display_data"
        },
        {
          "data": {
            "application/vnd.jupyter.widget-view+json": {
              "model_id": "0d67ae8cae314a018d5eb0cb6f966308",
              "version_major": 2,
              "version_minor": 0
            },
            "text/plain": [
              "Batch:   0%|          | 0/95 [00:00<?, ?it/s]"
            ]
          },
          "metadata": {},
          "output_type": "display_data"
        },
        {
          "data": {
            "application/vnd.jupyter.widget-view+json": {
              "model_id": "daf267749a3f4180be08c3e3af3142e6",
              "version_major": 2,
              "version_minor": 0
            },
            "text/plain": [
              "Batch:   0%|          | 0/95 [00:00<?, ?it/s]"
            ]
          },
          "metadata": {},
          "output_type": "display_data"
        },
        {
          "data": {
            "application/vnd.jupyter.widget-view+json": {
              "model_id": "ee7c3e355d1348c6aceb75f6c540cbfa",
              "version_major": 2,
              "version_minor": 0
            },
            "text/plain": [
              "Batch:   0%|          | 0/95 [00:00<?, ?it/s]"
            ]
          },
          "metadata": {},
          "output_type": "display_data"
        },
        {
          "data": {
            "application/vnd.jupyter.widget-view+json": {
              "model_id": "0fa1079ff05f4e80a30fca699dddfc66",
              "version_major": 2,
              "version_minor": 0
            },
            "text/plain": [
              "Batch:   0%|          | 0/95 [00:00<?, ?it/s]"
            ]
          },
          "metadata": {},
          "output_type": "display_data"
        },
        {
          "data": {
            "application/vnd.jupyter.widget-view+json": {
              "model_id": "3a68e741801547309513075b6a213cb1",
              "version_major": 2,
              "version_minor": 0
            },
            "text/plain": [
              "Batch:   0%|          | 0/95 [00:00<?, ?it/s]"
            ]
          },
          "metadata": {},
          "output_type": "display_data"
        },
        {
          "data": {
            "application/vnd.jupyter.widget-view+json": {
              "model_id": "dcd4dd1e60c74a28917eee7d00d303d3",
              "version_major": 2,
              "version_minor": 0
            },
            "text/plain": [
              "Batch:   0%|          | 0/95 [00:00<?, ?it/s]"
            ]
          },
          "metadata": {},
          "output_type": "display_data"
        },
        {
          "data": {
            "application/vnd.jupyter.widget-view+json": {
              "model_id": "92edc1e10ce04a6aa1deb92312e40ae8",
              "version_major": 2,
              "version_minor": 0
            },
            "text/plain": [
              "Batch:   0%|          | 0/95 [00:00<?, ?it/s]"
            ]
          },
          "metadata": {},
          "output_type": "display_data"
        },
        {
          "data": {
            "application/vnd.jupyter.widget-view+json": {
              "model_id": "8e5c11b89ef1463cb97640cfc006c030",
              "version_major": 2,
              "version_minor": 0
            },
            "text/plain": [
              "Batch:   0%|          | 0/95 [00:00<?, ?it/s]"
            ]
          },
          "metadata": {},
          "output_type": "display_data"
        },
        {
          "data": {
            "application/vnd.jupyter.widget-view+json": {
              "model_id": "38e198ffb1364741ac089a112b2b2229",
              "version_major": 2,
              "version_minor": 0
            },
            "text/plain": [
              "Batch:   0%|          | 0/95 [00:00<?, ?it/s]"
            ]
          },
          "metadata": {},
          "output_type": "display_data"
        },
        {
          "data": {
            "application/vnd.jupyter.widget-view+json": {
              "model_id": "c2ee033d5aab4574bb4bc2633fe5c10e",
              "version_major": 2,
              "version_minor": 0
            },
            "text/plain": [
              "Batch:   0%|          | 0/95 [00:00<?, ?it/s]"
            ]
          },
          "metadata": {},
          "output_type": "display_data"
        },
        {
          "data": {
            "application/vnd.jupyter.widget-view+json": {
              "model_id": "53c59392b4ca443793ec83280a08d34b",
              "version_major": 2,
              "version_minor": 0
            },
            "text/plain": [
              "Batch:   0%|          | 0/95 [00:00<?, ?it/s]"
            ]
          },
          "metadata": {},
          "output_type": "display_data"
        },
        {
          "data": {
            "application/vnd.jupyter.widget-view+json": {
              "model_id": "a316f43b088a463cae8d24224c5f392d",
              "version_major": 2,
              "version_minor": 0
            },
            "text/plain": [
              "Batch:   0%|          | 0/95 [00:00<?, ?it/s]"
            ]
          },
          "metadata": {},
          "output_type": "display_data"
        },
        {
          "data": {
            "application/vnd.jupyter.widget-view+json": {
              "model_id": "e16d3383ab914565aa13d72295f94d94",
              "version_major": 2,
              "version_minor": 0
            },
            "text/plain": [
              "Batch:   0%|          | 0/95 [00:00<?, ?it/s]"
            ]
          },
          "metadata": {},
          "output_type": "display_data"
        },
        {
          "data": {
            "application/vnd.jupyter.widget-view+json": {
              "model_id": "f7d30b5ae2d44e51b9d98daf33fcdbfd",
              "version_major": 2,
              "version_minor": 0
            },
            "text/plain": [
              "Batch:   0%|          | 0/95 [00:00<?, ?it/s]"
            ]
          },
          "metadata": {},
          "output_type": "display_data"
        },
        {
          "data": {
            "application/vnd.jupyter.widget-view+json": {
              "model_id": "08ac3dfb99a643908d14711b4dd73b64",
              "version_major": 2,
              "version_minor": 0
            },
            "text/plain": [
              "Batch:   0%|          | 0/95 [00:00<?, ?it/s]"
            ]
          },
          "metadata": {},
          "output_type": "display_data"
        },
        {
          "data": {
            "application/vnd.jupyter.widget-view+json": {
              "model_id": "9cf763fc824c4276b0ca970acde3c2c5",
              "version_major": 2,
              "version_minor": 0
            },
            "text/plain": [
              "Batch:   0%|          | 0/95 [00:00<?, ?it/s]"
            ]
          },
          "metadata": {},
          "output_type": "display_data"
        },
        {
          "data": {
            "application/vnd.jupyter.widget-view+json": {
              "model_id": "bbf0a5c1c5484fa6ac836201c621bd0f",
              "version_major": 2,
              "version_minor": 0
            },
            "text/plain": [
              "Batch:   0%|          | 0/95 [00:00<?, ?it/s]"
            ]
          },
          "metadata": {},
          "output_type": "display_data"
        },
        {
          "data": {
            "application/vnd.jupyter.widget-view+json": {
              "model_id": "9c66e3832cc24bd6bc6d5b6e733843e3",
              "version_major": 2,
              "version_minor": 0
            },
            "text/plain": [
              "Batch:   0%|          | 0/95 [00:00<?, ?it/s]"
            ]
          },
          "metadata": {},
          "output_type": "display_data"
        },
        {
          "data": {
            "application/vnd.jupyter.widget-view+json": {
              "model_id": "9bcf798f6ec546bd87fcae68cb67d9eb",
              "version_major": 2,
              "version_minor": 0
            },
            "text/plain": [
              "Batch:   0%|          | 0/95 [00:00<?, ?it/s]"
            ]
          },
          "metadata": {},
          "output_type": "display_data"
        },
        {
          "data": {
            "application/vnd.jupyter.widget-view+json": {
              "model_id": "799ecca1dc5d4ac888313480b9b0247a",
              "version_major": 2,
              "version_minor": 0
            },
            "text/plain": [
              "Batch:   0%|          | 0/95 [00:00<?, ?it/s]"
            ]
          },
          "metadata": {},
          "output_type": "display_data"
        },
        {
          "data": {
            "application/vnd.jupyter.widget-view+json": {
              "model_id": "6a9eef99d63b4408a0485ab50a7608b6",
              "version_major": 2,
              "version_minor": 0
            },
            "text/plain": [
              "Batch:   0%|          | 0/95 [00:00<?, ?it/s]"
            ]
          },
          "metadata": {},
          "output_type": "display_data"
        },
        {
          "data": {
            "application/vnd.jupyter.widget-view+json": {
              "model_id": "44bb4fb89bd34280af53d9e0df9d76dd",
              "version_major": 2,
              "version_minor": 0
            },
            "text/plain": [
              "Batch:   0%|          | 0/95 [00:00<?, ?it/s]"
            ]
          },
          "metadata": {},
          "output_type": "display_data"
        },
        {
          "data": {
            "application/vnd.jupyter.widget-view+json": {
              "model_id": "7f5ec8ddbf724d1ea96b65107f144851",
              "version_major": 2,
              "version_minor": 0
            },
            "text/plain": [
              "Batch:   0%|          | 0/95 [00:00<?, ?it/s]"
            ]
          },
          "metadata": {},
          "output_type": "display_data"
        },
        {
          "data": {
            "application/vnd.jupyter.widget-view+json": {
              "model_id": "d65523aac2754413aa65842249b76d2b",
              "version_major": 2,
              "version_minor": 0
            },
            "text/plain": [
              "Batch:   0%|          | 0/95 [00:00<?, ?it/s]"
            ]
          },
          "metadata": {},
          "output_type": "display_data"
        },
        {
          "data": {
            "application/vnd.jupyter.widget-view+json": {
              "model_id": "f12290963c3f4abe8c49205a26ed76a3",
              "version_major": 2,
              "version_minor": 0
            },
            "text/plain": [
              "Batch:   0%|          | 0/95 [00:00<?, ?it/s]"
            ]
          },
          "metadata": {},
          "output_type": "display_data"
        },
        {
          "data": {
            "application/vnd.jupyter.widget-view+json": {
              "model_id": "e7f3642b783d460e9aa8a85d0d9c9976",
              "version_major": 2,
              "version_minor": 0
            },
            "text/plain": [
              "Batch:   0%|          | 0/95 [00:00<?, ?it/s]"
            ]
          },
          "metadata": {},
          "output_type": "display_data"
        },
        {
          "data": {
            "application/vnd.jupyter.widget-view+json": {
              "model_id": "6f99b6f7014a45ea89f547c53c0a6690",
              "version_major": 2,
              "version_minor": 0
            },
            "text/plain": [
              "Batch:   0%|          | 0/95 [00:00<?, ?it/s]"
            ]
          },
          "metadata": {},
          "output_type": "display_data"
        }
      ],
      "source": [
        "#@markdown ### **Training**\n",
        "#@markdown\n",
        "#@markdown Takes about an hour. If you don't want to wait, skip to the next cell\n",
        "#@markdown to load pre-trained weights\n",
        "\n",
        "num_epochs = 100\n",
        "\n",
        "# Exponential Moving Average\n",
        "# accelerates training and improves stability\n",
        "# holds a copy of the model weights\n",
        "ema = EMAModel(\n",
        "    parameters=noise_pred_net.parameters(),\n",
        "    power=0.75)\n",
        "\n",
        "# Standard ADAM optimizer\n",
        "# Note that EMA parametesr are not optimized\n",
        "optimizer = torch.optim.AdamW(\n",
        "    params=noise_pred_net.parameters(),\n",
        "    lr=1e-4, weight_decay=1e-6)\n",
        "\n",
        "# Cosine LR schedule with linear warmup\n",
        "lr_scheduler = get_scheduler(\n",
        "    name='cosine',\n",
        "    optimizer=optimizer,\n",
        "    num_warmup_steps=500,\n",
        "    num_training_steps=len(dataloader) * num_epochs\n",
        ")\n",
        "\n",
        "with tqdm(range(num_epochs), desc='Epoch') as tglobal:\n",
        "    # epoch loop\n",
        "    for epoch_idx in tglobal:\n",
        "        epoch_loss = list()\n",
        "        # batch loop\n",
        "        with tqdm(dataloader, desc='Batch', leave=False) as tepoch:\n",
        "            for nbatch in tepoch:\n",
        "                # data normalized in dataset\n",
        "                # device transfer\n",
        "                nobs = nbatch['obs'].to(device)\n",
        "                naction = nbatch['action'].to(device)\n",
        "                B = nobs.shape[0]\n",
        "\n",
        "                # observation as FiLM conditioning\n",
        "                # (B, obs_horizon, obs_dim)\n",
        "                obs_cond = nobs[:,:obs_horizon,:]\n",
        "                # (B, obs_horizon * obs_dim)\n",
        "                obs_cond = obs_cond.flatten(start_dim=1)\n",
        "\n",
        "                # sample noise to add to actions\n",
        "                noise = torch.randn(naction.shape, device=device)\n",
        "\n",
        "                # sample a diffusion iteration for each data point\n",
        "                timesteps = torch.randint(\n",
        "                    0, noise_scheduler.config.num_train_timesteps,\n",
        "                    (B,), device=device\n",
        "                ).long()\n",
        "\n",
        "                # add noise to the clean images according to the noise magnitude at each diffusion iteration\n",
        "                # (this is the forward diffusion process)\n",
        "                noisy_actions = noise_scheduler.add_noise(\n",
        "                    naction, noise, timesteps\n",
        "                )\n",
        "\n",
        "                # predict the noise residual\n",
        "                noise_pred = noise_pred_net(\n",
        "                    noisy_actions, timesteps, global_cond=obs_cond\n",
        "                )\n",
        "\n",
        "                # L2 loss\n",
        "                loss = nn.functional.mse_loss(noise_pred, noise)\n",
        "\n",
        "                # optimize\n",
        "                loss.backward()\n",
        "                optimizer.step()\n",
        "                optimizer.zero_grad()\n",
        "                # step lr scheduler every batch\n",
        "                # this is different from standard pytorch behavior\n",
        "                lr_scheduler.step()\n",
        "\n",
        "                # update Exponential Moving Average of the model weights\n",
        "                ema.step(noise_pred_net.parameters())\n",
        "\n",
        "                # logging\n",
        "                loss_cpu = loss.item()\n",
        "                epoch_loss.append(loss_cpu)\n",
        "                tepoch.set_postfix(loss=loss_cpu)\n",
        "        tglobal.set_postfix(loss=np.mean(epoch_loss))\n",
        "\n",
        "# Weights of the EMA model\n",
        "# is used for inference\n",
        "ema_noise_pred_net = noise_pred_net\n",
        "ema.copy_to(ema_noise_pred_net.parameters())"
      ]
    },
    {
      "cell_type": "code",
      "execution_count": 25,
      "metadata": {
        "colab": {
          "base_uri": "https://localhost:8080/"
        },
        "id": "6F3hUbIuxGdO",
        "outputId": "1c77956b-0006-403d-a9af-ce41def182bc"
      },
      "outputs": [
        {
          "name": "stdout",
          "output_type": "stream",
          "text": [
            "Skipped pretrained weight loading.\n"
          ]
        }
      ],
      "source": [
        "#@markdown ### **Loading Pretrained Checkpoint**\n",
        "#@markdown Set `load_pretrained = True` to load pretrained weights.\n",
        "\n",
        "load_pretrained = False\n",
        "if load_pretrained:\n",
        "  ckpt_path = \"pusht_state_100ep.ckpt\"\n",
        "  if not os.path.isfile(ckpt_path):\n",
        "      id = \"1mHDr_DEZSdiGo9yecL50BBQYzR8Fjhl_&confirm=t\"\n",
        "      gdown.download(id=id, output=ckpt_path, quiet=False)\n",
        "\n",
        "  state_dict = torch.load(ckpt_path, map_location=device)\n",
        "  ema_noise_pred_net = noise_pred_net\n",
        "  ema_noise_pred_net.load_state_dict(state_dict)\n",
        "  print('Pretrained weights loaded.')\n",
        "else:\n",
        "  print(\"Skipped pretrained weight loading.\")"
      ]
    },
    {
      "cell_type": "code",
      "execution_count": 28,
      "metadata": {
        "colab": {
          "base_uri": "https://localhost:8080/",
          "height": 327,
          "referenced_widgets": [
            "1c17844c76d84675aa1c6e1a973308c8",
            "aa9489756ac24ba0b523f04a3352a09f",
            "51ff5f151bc9475fa3a5c54f8b60a50e",
            "58656f1d31ac45d3aaef45aa22f69899",
            "b9f98d2d7c624a8eae13fa5b422739ce",
            "b72ff2e7020f447fb492c1e9f69a0174",
            "567e3614e80743e5ae1f8e3c75a65b45",
            "187c8fd96f79429bb0752103d5998401",
            "17d07e24261b4627b1160beeb59c5636",
            "269772eda6cc4449bbba9e1e684b442c",
            "7cad813857df45f3ad617c74c68a619e"
          ]
        },
        "id": "OyLjlNQk5nr9",
        "outputId": "a104d1d1-f25a-456d-cac9-520ff50f455f"
      },
      "outputs": [
        {
          "data": {
            "application/vnd.jupyter.widget-view+json": {
              "model_id": "5858d2453cea4b519c4c5f7cfd861b15",
              "version_major": 2,
              "version_minor": 0
            },
            "text/plain": [
              "Eval PushTStateEnv:   0%|          | 0/200 [00:00<?, ?it/s]"
            ]
          },
          "metadata": {},
          "output_type": "display_data"
        },
        {
          "name": "stdout",
          "output_type": "stream",
          "text": [
            "Score:  1.0\n"
          ]
        },
        {
          "data": {
            "text/html": [
              "<video controls  width=\"256\"  height=\"256\">\n",
              " <source src=\"data:video/mp4;base64,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\" type=\"video/mp4\">\n",
              " Your browser does not support the video tag.\n",
              " </video>"
            ],
            "text/plain": [
              "<IPython.core.display.Video object>"
            ]
          },
          "execution_count": 28,
          "metadata": {},
          "output_type": "execute_result"
        }
      ],
      "source": [
        "#@markdown ### **Inference**\n",
        "\n",
        "# limit enviornment interaction to 200 steps before termination\n",
        "max_steps = 200\n",
        "env = PushTEnv()\n",
        "# use a seed >200 to avoid initial states seen in the training dataset\n",
        "env.seed(100002)\n",
        "\n",
        "# get first observation\n",
        "obs, info = env.reset()\n",
        "\n",
        "# keep a queue of last 2 steps of observations\n",
        "obs_deque = collections.deque(\n",
        "    [obs] * obs_horizon, maxlen=obs_horizon)\n",
        "# save visualization and rewards\n",
        "imgs = [env.render(mode='rgb_array')]\n",
        "rewards = list()\n",
        "done = False\n",
        "step_idx = 0\n",
        "\n",
        "with tqdm(total=max_steps, desc=\"Eval PushTStateEnv\") as pbar:\n",
        "    while not done:\n",
        "        B = 1\n",
        "        # stack the last obs_horizon (2) number of observations\n",
        "        obs_seq = np.stack(obs_deque)\n",
        "        # normalize observation\n",
        "        nobs = normalize_data(obs_seq, stats=stats['obs'])\n",
        "        # device transfer\n",
        "        nobs = torch.from_numpy(nobs).to(device, dtype=torch.float32)\n",
        "\n",
        "        # infer action\n",
        "        with torch.no_grad():\n",
        "            # reshape observation to (B,obs_horizon*obs_dim)\n",
        "            obs_cond = nobs.unsqueeze(0).flatten(start_dim=1)\n",
        "\n",
        "            # initialize action from Guassian noise\n",
        "            noisy_action = torch.randn(\n",
        "                (B, pred_horizon, action_dim), device=device)\n",
        "            naction = noisy_action\n",
        "\n",
        "            # init scheduler\n",
        "            noise_scheduler.set_timesteps(num_diffusion_iters)\n",
        "\n",
        "            for k in noise_scheduler.timesteps:\n",
        "                # predict noise\n",
        "                noise_pred = ema_noise_pred_net(\n",
        "                    sample=naction,\n",
        "                    timestep=k,\n",
        "                    global_cond=obs_cond\n",
        "                )\n",
        "\n",
        "                # inverse diffusion step (remove noise)\n",
        "                naction = noise_scheduler.step(\n",
        "                    model_output=noise_pred,\n",
        "                    timestep=k,\n",
        "                    sample=naction\n",
        "                ).prev_sample\n",
        "\n",
        "        # unnormalize action\n",
        "        naction = naction.detach().cpu().numpy()\n",
        "        # (B, pred_horizon, action_dim)\n",
        "        naction = naction[0]\n",
        "        action_pred = unnormalize_data(naction, stats=stats['action'])\n",
        "\n",
        "        # only take action_horizon number of actions\n",
        "        start = obs_horizon - 1\n",
        "        end = start + action_horizon\n",
        "        action = action_pred[start:end,:]\n",
        "        # (action_horizon, action_dim)\n",
        "\n",
        "        # execute action_horizon number of steps\n",
        "        # without replanning\n",
        "        for i in range(len(action)):\n",
        "            # stepping env\n",
        "            obs, reward, done, _, info = env.step(action[i])\n",
        "            # save observations\n",
        "            obs_deque.append(obs)\n",
        "            # and reward/vis\n",
        "            rewards.append(reward)\n",
        "            imgs.append(env.render(mode='rgb_array'))\n",
        "\n",
        "            # update progress bar\n",
        "            step_idx += 1\n",
        "            pbar.update(1)\n",
        "            pbar.set_postfix(reward=reward)\n",
        "            if step_idx > max_steps:\n",
        "                done = True\n",
        "            if done:\n",
        "                break\n",
        "\n",
        "# print out the maximum target coverage\n",
        "print('Score: ', max(rewards))\n",
        "\n",
        "# visualize\n",
        "from IPython.display import Video\n",
        "vwrite('vis.mp4', imgs)\n",
        "Video('vis.mp4', embed=True, width=256, height=256)"
      ]
    }
  ],
  "metadata": {
    "accelerator": "GPU",
    "colab": {
      "provenance": []
    },
    "gpuClass": "standard",
    "kernelspec": {
      "display_name": "diffusion-policy",
      "language": "python",
      "name": "python3"
    },
    "language_info": {
      "codemirror_mode": {
        "name": "ipython",
        "version": 3
      },
      "file_extension": ".py",
      "mimetype": "text/x-python",
      "name": "python",
      "nbconvert_exporter": "python",
      "pygments_lexer": "ipython3",
      "version": "3.10.18"
    },
    "widgets": {
      "application/vnd.jupyter.widget-state+json": {
        "019444645b164b92a8da32e94a443d7e": {
          "model_module": "@jupyter-widgets/base",
          "model_module_version": "1.2.0",
          "model_name": "LayoutModel",
          "state": {
            "_model_module": "@jupyter-widgets/base",
            "_model_module_version": "1.2.0",
            "_model_name": "LayoutModel",
            "_view_count": null,
            "_view_module": "@jupyter-widgets/base",
            "_view_module_version": "1.2.0",
            "_view_name": "LayoutView",
            "align_content": null,
            "align_items": null,
            "align_self": null,
            "border": null,
            "bottom": null,
            "display": null,
            "flex": null,
            "flex_flow": null,
            "grid_area": null,
            "grid_auto_columns": null,
            "grid_auto_flow": null,
            "grid_auto_rows": null,
            "grid_column": null,
            "grid_gap": null,
            "grid_row": null,
            "grid_template_areas": null,
            "grid_template_columns": null,
            "grid_template_rows": null,
            "height": null,
            "justify_content": null,
            "justify_items": null,
            "left": null,
            "margin": null,
            "max_height": null,
            "max_width": null,
            "min_height": null,
            "min_width": null,
            "object_fit": null,
            "object_position": null,
            "order": null,
            "overflow": null,
            "overflow_x": null,
            "overflow_y": null,
            "padding": null,
            "right": null,
            "top": null,
            "visibility": null,
            "width": null
          }
        },
        "03bbeb04a4c44206b1671e69864e69c7": {
          "model_module": "@jupyter-widgets/controls",
          "model_module_version": "1.5.0",
          "model_name": "ProgressStyleModel",
          "state": {
            "_model_module": "@jupyter-widgets/controls",
            "_model_module_version": "1.5.0",
            "_model_name": "ProgressStyleModel",
            "_view_count": null,
            "_view_module": "@jupyter-widgets/base",
            "_view_module_version": "1.2.0",
            "_view_name": "StyleView",
            "bar_color": null,
            "description_width": ""
          }
        },
        "0964ed28f2794bdf91e2e2756aae3bc4": {
          "model_module": "@jupyter-widgets/base",
          "model_module_version": "1.2.0",
          "model_name": "LayoutModel",
          "state": {
            "_model_module": "@jupyter-widgets/base",
            "_model_module_version": "1.2.0",
            "_model_name": "LayoutModel",
            "_view_count": null,
            "_view_module": "@jupyter-widgets/base",
            "_view_module_version": "1.2.0",
            "_view_name": "LayoutView",
            "align_content": null,
            "align_items": null,
            "align_self": null,
            "border": null,
            "bottom": null,
            "display": null,
            "flex": null,
            "flex_flow": null,
            "grid_area": null,
            "grid_auto_columns": null,
            "grid_auto_flow": null,
            "grid_auto_rows": null,
            "grid_column": null,
            "grid_gap": null,
            "grid_row": null,
            "grid_template_areas": null,
            "grid_template_columns": null,
            "grid_template_rows": null,
            "height": null,
            "justify_content": null,
            "justify_items": null,
            "left": null,
            "margin": null,
            "max_height": null,
            "max_width": null,
            "min_height": null,
            "min_width": null,
            "object_fit": null,
            "object_position": null,
            "order": null,
            "overflow": null,
            "overflow_x": null,
            "overflow_y": null,
            "padding": null,
            "right": null,
            "top": null,
            "visibility": null,
            "width": null
          }
        },
        "0d687f5624cb4871ad167ebcbcb4c148": {
          "model_module": "@jupyter-widgets/controls",
          "model_module_version": "1.5.0",
          "model_name": "FloatProgressModel",
          "state": {
            "_dom_classes": [],
            "_model_module": "@jupyter-widgets/controls",
            "_model_module_version": "1.5.0",
            "_model_name": "FloatProgressModel",
            "_view_count": null,
            "_view_module": "@jupyter-widgets/controls",
            "_view_module_version": "1.5.0",
            "_view_name": "ProgressView",
            "bar_style": "success",
            "description": "",
            "description_tooltip": null,
            "layout": "IPY_MODEL_116ecf0deb6e44faadb594f2f982c4c2",
            "max": 1,
            "min": 0,
            "orientation": "horizontal",
            "style": "IPY_MODEL_2db415245cbb44c8ab5c208be328fc16",
            "value": 1
          }
        },
        "116ecf0deb6e44faadb594f2f982c4c2": {
          "model_module": "@jupyter-widgets/base",
          "model_module_version": "1.2.0",
          "model_name": "LayoutModel",
          "state": {
            "_model_module": "@jupyter-widgets/base",
            "_model_module_version": "1.2.0",
            "_model_name": "LayoutModel",
            "_view_count": null,
            "_view_module": "@jupyter-widgets/base",
            "_view_module_version": "1.2.0",
            "_view_name": "LayoutView",
            "align_content": null,
            "align_items": null,
            "align_self": null,
            "border": null,
            "bottom": null,
            "display": null,
            "flex": null,
            "flex_flow": null,
            "grid_area": null,
            "grid_auto_columns": null,
            "grid_auto_flow": null,
            "grid_auto_rows": null,
            "grid_column": null,
            "grid_gap": null,
            "grid_row": null,
            "grid_template_areas": null,
            "grid_template_columns": null,
            "grid_template_rows": null,
            "height": null,
            "justify_content": null,
            "justify_items": null,
            "left": null,
            "margin": null,
            "max_height": null,
            "max_width": null,
            "min_height": null,
            "min_width": null,
            "object_fit": null,
            "object_position": null,
            "order": null,
            "overflow": null,
            "overflow_x": null,
            "overflow_y": null,
            "padding": null,
            "right": null,
            "top": null,
            "visibility": null,
            "width": null
          }
        },
        "17d07e24261b4627b1160beeb59c5636": {
          "model_module": "@jupyter-widgets/controls",
          "model_module_version": "1.5.0",
          "model_name": "ProgressStyleModel",
          "state": {
            "_model_module": "@jupyter-widgets/controls",
            "_model_module_version": "1.5.0",
            "_model_name": "ProgressStyleModel",
            "_view_count": null,
            "_view_module": "@jupyter-widgets/base",
            "_view_module_version": "1.2.0",
            "_view_name": "StyleView",
            "bar_color": null,
            "description_width": ""
          }
        },
        "187c8fd96f79429bb0752103d5998401": {
          "model_module": "@jupyter-widgets/base",
          "model_module_version": "1.2.0",
          "model_name": "LayoutModel",
          "state": {
            "_model_module": "@jupyter-widgets/base",
            "_model_module_version": "1.2.0",
            "_model_name": "LayoutModel",
            "_view_count": null,
            "_view_module": "@jupyter-widgets/base",
            "_view_module_version": "1.2.0",
            "_view_name": "LayoutView",
            "align_content": null,
            "align_items": null,
            "align_self": null,
            "border": null,
            "bottom": null,
            "display": null,
            "flex": null,
            "flex_flow": null,
            "grid_area": null,
            "grid_auto_columns": null,
            "grid_auto_flow": null,
            "grid_auto_rows": null,
            "grid_column": null,
            "grid_gap": null,
            "grid_row": null,
            "grid_template_areas": null,
            "grid_template_columns": null,
            "grid_template_rows": null,
            "height": null,
            "justify_content": null,
            "justify_items": null,
            "left": null,
            "margin": null,
            "max_height": null,
            "max_width": null,
            "min_height": null,
            "min_width": null,
            "object_fit": null,
            "object_position": null,
            "order": null,
            "overflow": null,
            "overflow_x": null,
            "overflow_y": null,
            "padding": null,
            "right": null,
            "top": null,
            "visibility": null,
            "width": null
          }
        },
        "1939a1c3cc7a498fa5f05ac737b0af99": {
          "model_module": "@jupyter-widgets/controls",
          "model_module_version": "1.5.0",
          "model_name": "DescriptionStyleModel",
          "state": {
            "_model_module": "@jupyter-widgets/controls",
            "_model_module_version": "1.5.0",
            "_model_name": "DescriptionStyleModel",
            "_view_count": null,
            "_view_module": "@jupyter-widgets/base",
            "_view_module_version": "1.2.0",
            "_view_name": "StyleView",
            "description_width": ""
          }
        },
        "1c17844c76d84675aa1c6e1a973308c8": {
          "model_module": "@jupyter-widgets/controls",
          "model_module_version": "1.5.0",
          "model_name": "HBoxModel",
          "state": {
            "_dom_classes": [],
            "_model_module": "@jupyter-widgets/controls",
            "_model_module_version": "1.5.0",
            "_model_name": "HBoxModel",
            "_view_count": null,
            "_view_module": "@jupyter-widgets/controls",
            "_view_module_version": "1.5.0",
            "_view_name": "HBoxView",
            "box_style": "",
            "children": [
              "IPY_MODEL_aa9489756ac24ba0b523f04a3352a09f",
              "IPY_MODEL_51ff5f151bc9475fa3a5c54f8b60a50e",
              "IPY_MODEL_58656f1d31ac45d3aaef45aa22f69899"
            ],
            "layout": "IPY_MODEL_b9f98d2d7c624a8eae13fa5b422739ce"
          }
        },
        "269772eda6cc4449bbba9e1e684b442c": {
          "model_module": "@jupyter-widgets/base",
          "model_module_version": "1.2.0",
          "model_name": "LayoutModel",
          "state": {
            "_model_module": "@jupyter-widgets/base",
            "_model_module_version": "1.2.0",
            "_model_name": "LayoutModel",
            "_view_count": null,
            "_view_module": "@jupyter-widgets/base",
            "_view_module_version": "1.2.0",
            "_view_name": "LayoutView",
            "align_content": null,
            "align_items": null,
            "align_self": null,
            "border": null,
            "bottom": null,
            "display": null,
            "flex": null,
            "flex_flow": null,
            "grid_area": null,
            "grid_auto_columns": null,
            "grid_auto_flow": null,
            "grid_auto_rows": null,
            "grid_column": null,
            "grid_gap": null,
            "grid_row": null,
            "grid_template_areas": null,
            "grid_template_columns": null,
            "grid_template_rows": null,
            "height": null,
            "justify_content": null,
            "justify_items": null,
            "left": null,
            "margin": null,
            "max_height": null,
            "max_width": null,
            "min_height": null,
            "min_width": null,
            "object_fit": null,
            "object_position": null,
            "order": null,
            "overflow": null,
            "overflow_x": null,
            "overflow_y": null,
            "padding": null,
            "right": null,
            "top": null,
            "visibility": null,
            "width": null
          }
        },
        "2db415245cbb44c8ab5c208be328fc16": {
          "model_module": "@jupyter-widgets/controls",
          "model_module_version": "1.5.0",
          "model_name": "ProgressStyleModel",
          "state": {
            "_model_module": "@jupyter-widgets/controls",
            "_model_module_version": "1.5.0",
            "_model_name": "ProgressStyleModel",
            "_view_count": null,
            "_view_module": "@jupyter-widgets/base",
            "_view_module_version": "1.2.0",
            "_view_name": "StyleView",
            "bar_color": null,
            "description_width": ""
          }
        },
        "36c1a61163804f9a825638c6c8d962ed": {
          "model_module": "@jupyter-widgets/controls",
          "model_module_version": "1.5.0",
          "model_name": "FloatProgressModel",
          "state": {
            "_dom_classes": [],
            "_model_module": "@jupyter-widgets/controls",
            "_model_module_version": "1.5.0",
            "_model_name": "FloatProgressModel",
            "_view_count": null,
            "_view_module": "@jupyter-widgets/controls",
            "_view_module_version": "1.5.0",
            "_view_name": "ProgressView",
            "bar_style": "",
            "description": "",
            "description_tooltip": null,
            "layout": "IPY_MODEL_a26e0dce0a86491db71a731f570f1a80",
            "max": 95,
            "min": 0,
            "orientation": "horizontal",
            "style": "IPY_MODEL_fe61754736d04d539c3f941049b5922a",
            "value": 95
          }
        },
        "3a5463e9f9864ca2b52fe9cd28f4a8b8": {
          "model_module": "@jupyter-widgets/controls",
          "model_module_version": "1.5.0",
          "model_name": "DescriptionStyleModel",
          "state": {
            "_model_module": "@jupyter-widgets/controls",
            "_model_module_version": "1.5.0",
            "_model_name": "DescriptionStyleModel",
            "_view_count": null,
            "_view_module": "@jupyter-widgets/base",
            "_view_module_version": "1.2.0",
            "_view_name": "StyleView",
            "description_width": ""
          }
        },
        "49d5ffd9eb81491f95df70e66c0c94e4": {
          "model_module": "@jupyter-widgets/controls",
          "model_module_version": "1.5.0",
          "model_name": "HBoxModel",
          "state": {
            "_dom_classes": [],
            "_model_module": "@jupyter-widgets/controls",
            "_model_module_version": "1.5.0",
            "_model_name": "HBoxModel",
            "_view_count": null,
            "_view_module": "@jupyter-widgets/controls",
            "_view_module_version": "1.5.0",
            "_view_name": "HBoxView",
            "box_style": "",
            "children": [
              "IPY_MODEL_9a3d8fbcc3e548e1a56d25c10b321e6a",
              "IPY_MODEL_6cf470f12c174e94b0b058cfba9b5fb2",
              "IPY_MODEL_9b6de90b3dbc4877966b2d5233189866"
            ],
            "layout": "IPY_MODEL_4b3aeac3e8e74b8f8dab0dc9ad0b7c94"
          }
        },
        "4b3aeac3e8e74b8f8dab0dc9ad0b7c94": {
          "model_module": "@jupyter-widgets/base",
          "model_module_version": "1.2.0",
          "model_name": "LayoutModel",
          "state": {
            "_model_module": "@jupyter-widgets/base",
            "_model_module_version": "1.2.0",
            "_model_name": "LayoutModel",
            "_view_count": null,
            "_view_module": "@jupyter-widgets/base",
            "_view_module_version": "1.2.0",
            "_view_name": "LayoutView",
            "align_content": null,
            "align_items": null,
            "align_self": null,
            "border": null,
            "bottom": null,
            "display": null,
            "flex": null,
            "flex_flow": null,
            "grid_area": null,
            "grid_auto_columns": null,
            "grid_auto_flow": null,
            "grid_auto_rows": null,
            "grid_column": null,
            "grid_gap": null,
            "grid_row": null,
            "grid_template_areas": null,
            "grid_template_columns": null,
            "grid_template_rows": null,
            "height": null,
            "justify_content": null,
            "justify_items": null,
            "left": null,
            "margin": null,
            "max_height": null,
            "max_width": null,
            "min_height": null,
            "min_width": null,
            "object_fit": null,
            "object_position": null,
            "order": null,
            "overflow": null,
            "overflow_x": null,
            "overflow_y": null,
            "padding": null,
            "right": null,
            "top": null,
            "visibility": null,
            "width": null
          }
        },
        "51ff5f151bc9475fa3a5c54f8b60a50e": {
          "model_module": "@jupyter-widgets/controls",
          "model_module_version": "1.5.0",
          "model_name": "FloatProgressModel",
          "state": {
            "_dom_classes": [],
            "_model_module": "@jupyter-widgets/controls",
            "_model_module_version": "1.5.0",
            "_model_name": "FloatProgressModel",
            "_view_count": null,
            "_view_module": "@jupyter-widgets/controls",
            "_view_module_version": "1.5.0",
            "_view_name": "ProgressView",
            "bar_style": "success",
            "description": "",
            "description_tooltip": null,
            "layout": "IPY_MODEL_187c8fd96f79429bb0752103d5998401",
            "max": 200,
            "min": 0,
            "orientation": "horizontal",
            "style": "IPY_MODEL_17d07e24261b4627b1160beeb59c5636",
            "value": 200
          }
        },
        "5352c2178612408aa84a3732d98a62ea": {
          "model_module": "@jupyter-widgets/controls",
          "model_module_version": "1.5.0",
          "model_name": "HBoxModel",
          "state": {
            "_dom_classes": [],
            "_model_module": "@jupyter-widgets/controls",
            "_model_module_version": "1.5.0",
            "_model_name": "HBoxModel",
            "_view_count": null,
            "_view_module": "@jupyter-widgets/controls",
            "_view_module_version": "1.5.0",
            "_view_name": "HBoxView",
            "box_style": "",
            "children": [
              "IPY_MODEL_f451b98692b64b54a0e8a3643a9bf992",
              "IPY_MODEL_36c1a61163804f9a825638c6c8d962ed",
              "IPY_MODEL_c2d84f324ecd4789b9b3420591f6186d"
            ],
            "layout": "IPY_MODEL_6d4ec5c2f9624d398f0d9fc27d84cadb"
          }
        },
        "567e3614e80743e5ae1f8e3c75a65b45": {
          "model_module": "@jupyter-widgets/controls",
          "model_module_version": "1.5.0",
          "model_name": "DescriptionStyleModel",
          "state": {
            "_model_module": "@jupyter-widgets/controls",
            "_model_module_version": "1.5.0",
            "_model_name": "DescriptionStyleModel",
            "_view_count": null,
            "_view_module": "@jupyter-widgets/base",
            "_view_module_version": "1.2.0",
            "_view_name": "StyleView",
            "description_width": ""
          }
        },
        "583a530a9c0442f2b762b281caa4836d": {
          "model_module": "@jupyter-widgets/controls",
          "model_module_version": "1.5.0",
          "model_name": "DescriptionStyleModel",
          "state": {
            "_model_module": "@jupyter-widgets/controls",
            "_model_module_version": "1.5.0",
            "_model_name": "DescriptionStyleModel",
            "_view_count": null,
            "_view_module": "@jupyter-widgets/base",
            "_view_module_version": "1.2.0",
            "_view_name": "StyleView",
            "description_width": ""
          }
        },
        "58656f1d31ac45d3aaef45aa22f69899": {
          "model_module": "@jupyter-widgets/controls",
          "model_module_version": "1.5.0",
          "model_name": "HTMLModel",
          "state": {
            "_dom_classes": [],
            "_model_module": "@jupyter-widgets/controls",
            "_model_module_version": "1.5.0",
            "_model_name": "HTMLModel",
            "_view_count": null,
            "_view_module": "@jupyter-widgets/controls",
            "_view_module_version": "1.5.0",
            "_view_name": "HTMLView",
            "description": "",
            "description_tooltip": null,
            "layout": "IPY_MODEL_269772eda6cc4449bbba9e1e684b442c",
            "placeholder": "​",
            "style": "IPY_MODEL_7cad813857df45f3ad617c74c68a619e",
            "value": " 201/? [00:37&lt;00:00,  6.07it/s, reward=0.875]"
          }
        },
        "5b6eaafac1574f7481e3bb2e20e598b3": {
          "model_module": "@jupyter-widgets/controls",
          "model_module_version": "1.5.0",
          "model_name": "DescriptionStyleModel",
          "state": {
            "_model_module": "@jupyter-widgets/controls",
            "_model_module_version": "1.5.0",
            "_model_name": "DescriptionStyleModel",
            "_view_count": null,
            "_view_module": "@jupyter-widgets/base",
            "_view_module_version": "1.2.0",
            "_view_name": "StyleView",
            "description_width": ""
          }
        },
        "657a261a272d466e8bfd532279a401a1": {
          "model_module": "@jupyter-widgets/base",
          "model_module_version": "1.2.0",
          "model_name": "LayoutModel",
          "state": {
            "_model_module": "@jupyter-widgets/base",
            "_model_module_version": "1.2.0",
            "_model_name": "LayoutModel",
            "_view_count": null,
            "_view_module": "@jupyter-widgets/base",
            "_view_module_version": "1.2.0",
            "_view_name": "LayoutView",
            "align_content": null,
            "align_items": null,
            "align_self": null,
            "border": null,
            "bottom": null,
            "display": null,
            "flex": null,
            "flex_flow": null,
            "grid_area": null,
            "grid_auto_columns": null,
            "grid_auto_flow": null,
            "grid_auto_rows": null,
            "grid_column": null,
            "grid_gap": null,
            "grid_row": null,
            "grid_template_areas": null,
            "grid_template_columns": null,
            "grid_template_rows": null,
            "height": null,
            "justify_content": null,
            "justify_items": null,
            "left": null,
            "margin": null,
            "max_height": null,
            "max_width": null,
            "min_height": null,
            "min_width": null,
            "object_fit": null,
            "object_position": null,
            "order": null,
            "overflow": null,
            "overflow_x": null,
            "overflow_y": null,
            "padding": null,
            "right": null,
            "top": null,
            "visibility": null,
            "width": null
          }
        },
        "6cf470f12c174e94b0b058cfba9b5fb2": {
          "model_module": "@jupyter-widgets/controls",
          "model_module_version": "1.5.0",
          "model_name": "FloatProgressModel",
          "state": {
            "_dom_classes": [],
            "_model_module": "@jupyter-widgets/controls",
            "_model_module_version": "1.5.0",
            "_model_name": "FloatProgressModel",
            "_view_count": null,
            "_view_module": "@jupyter-widgets/controls",
            "_view_module_version": "1.5.0",
            "_view_name": "ProgressView",
            "bar_style": "success",
            "description": "",
            "description_tooltip": null,
            "layout": "IPY_MODEL_c7d2c3f8b3714a0d911a132c74589ce1",
            "max": 1,
            "min": 0,
            "orientation": "horizontal",
            "style": "IPY_MODEL_03bbeb04a4c44206b1671e69864e69c7",
            "value": 0
          }
        },
        "6d4dfa99470e40559bebd6689305f155": {
          "model_module": "@jupyter-widgets/base",
          "model_module_version": "1.2.0",
          "model_name": "LayoutModel",
          "state": {
            "_model_module": "@jupyter-widgets/base",
            "_model_module_version": "1.2.0",
            "_model_name": "LayoutModel",
            "_view_count": null,
            "_view_module": "@jupyter-widgets/base",
            "_view_module_version": "1.2.0",
            "_view_name": "LayoutView",
            "align_content": null,
            "align_items": null,
            "align_self": null,
            "border": null,
            "bottom": null,
            "display": null,
            "flex": null,
            "flex_flow": null,
            "grid_area": null,
            "grid_auto_columns": null,
            "grid_auto_flow": null,
            "grid_auto_rows": null,
            "grid_column": null,
            "grid_gap": null,
            "grid_row": null,
            "grid_template_areas": null,
            "grid_template_columns": null,
            "grid_template_rows": null,
            "height": null,
            "justify_content": null,
            "justify_items": null,
            "left": null,
            "margin": null,
            "max_height": null,
            "max_width": null,
            "min_height": null,
            "min_width": null,
            "object_fit": null,
            "object_position": null,
            "order": null,
            "overflow": null,
            "overflow_x": null,
            "overflow_y": null,
            "padding": null,
            "right": null,
            "top": null,
            "visibility": null,
            "width": null
          }
        },
        "6d4ec5c2f9624d398f0d9fc27d84cadb": {
          "model_module": "@jupyter-widgets/base",
          "model_module_version": "1.2.0",
          "model_name": "LayoutModel",
          "state": {
            "_model_module": "@jupyter-widgets/base",
            "_model_module_version": "1.2.0",
            "_model_name": "LayoutModel",
            "_view_count": null,
            "_view_module": "@jupyter-widgets/base",
            "_view_module_version": "1.2.0",
            "_view_name": "LayoutView",
            "align_content": null,
            "align_items": null,
            "align_self": null,
            "border": null,
            "bottom": null,
            "display": null,
            "flex": null,
            "flex_flow": null,
            "grid_area": null,
            "grid_auto_columns": null,
            "grid_auto_flow": null,
            "grid_auto_rows": null,
            "grid_column": null,
            "grid_gap": null,
            "grid_row": null,
            "grid_template_areas": null,
            "grid_template_columns": null,
            "grid_template_rows": null,
            "height": null,
            "justify_content": null,
            "justify_items": null,
            "left": null,
            "margin": null,
            "max_height": null,
            "max_width": null,
            "min_height": null,
            "min_width": null,
            "object_fit": null,
            "object_position": null,
            "order": null,
            "overflow": null,
            "overflow_x": null,
            "overflow_y": null,
            "padding": null,
            "right": null,
            "top": null,
            "visibility": "hidden",
            "width": null
          }
        },
        "7cad813857df45f3ad617c74c68a619e": {
          "model_module": "@jupyter-widgets/controls",
          "model_module_version": "1.5.0",
          "model_name": "DescriptionStyleModel",
          "state": {
            "_model_module": "@jupyter-widgets/controls",
            "_model_module_version": "1.5.0",
            "_model_name": "DescriptionStyleModel",
            "_view_count": null,
            "_view_module": "@jupyter-widgets/base",
            "_view_module_version": "1.2.0",
            "_view_name": "StyleView",
            "description_width": ""
          }
        },
        "82a5a8a6be3a41209de270d5072838a2": {
          "model_module": "@jupyter-widgets/controls",
          "model_module_version": "1.5.0",
          "model_name": "HTMLModel",
          "state": {
            "_dom_classes": [],
            "_model_module": "@jupyter-widgets/controls",
            "_model_module_version": "1.5.0",
            "_model_name": "HTMLModel",
            "_view_count": null,
            "_view_module": "@jupyter-widgets/controls",
            "_view_module_version": "1.5.0",
            "_view_name": "HTMLView",
            "description": "",
            "description_tooltip": null,
            "layout": "IPY_MODEL_ed0c7c76b76d40c9b25ca92abb00cf34",
            "placeholder": "​",
            "style": "IPY_MODEL_3a5463e9f9864ca2b52fe9cd28f4a8b8",
            "value": " 1/1 [00:32&lt;00:00, 32.94s/it, loss=0.0523]"
          }
        },
        "83bd2cb0ca534108804cdc298d8b26c6": {
          "model_module": "@jupyter-widgets/controls",
          "model_module_version": "1.5.0",
          "model_name": "DescriptionStyleModel",
          "state": {
            "_model_module": "@jupyter-widgets/controls",
            "_model_module_version": "1.5.0",
            "_model_name": "DescriptionStyleModel",
            "_view_count": null,
            "_view_module": "@jupyter-widgets/base",
            "_view_module_version": "1.2.0",
            "_view_name": "StyleView",
            "description_width": ""
          }
        },
        "9a3d8fbcc3e548e1a56d25c10b321e6a": {
          "model_module": "@jupyter-widgets/controls",
          "model_module_version": "1.5.0",
          "model_name": "HTMLModel",
          "state": {
            "_dom_classes": [],
            "_model_module": "@jupyter-widgets/controls",
            "_model_module_version": "1.5.0",
            "_model_name": "HTMLModel",
            "_view_count": null,
            "_view_module": "@jupyter-widgets/controls",
            "_view_module_version": "1.5.0",
            "_view_name": "HTMLView",
            "description": "",
            "description_tooltip": null,
            "layout": "IPY_MODEL_ac6375a33ca84241b50638edb6321112",
            "placeholder": "​",
            "style": "IPY_MODEL_583a530a9c0442f2b762b281caa4836d",
            "value": ""
          }
        },
        "9b6de90b3dbc4877966b2d5233189866": {
          "model_module": "@jupyter-widgets/controls",
          "model_module_version": "1.5.0",
          "model_name": "HTMLModel",
          "state": {
            "_dom_classes": [],
            "_model_module": "@jupyter-widgets/controls",
            "_model_module_version": "1.5.0",
            "_model_name": "HTMLModel",
            "_view_count": null,
            "_view_module": "@jupyter-widgets/controls",
            "_view_module_version": "1.5.0",
            "_view_name": "HTMLView",
            "description": "",
            "description_tooltip": null,
            "layout": "IPY_MODEL_b2331069d969430b87c47e6f11fb2a9e",
            "placeholder": "​",
            "style": "IPY_MODEL_c8c282ba14c14da28ba421abc7119cf9",
            "value": " 0/0 [00:00&lt;?, ?it/s]"
          }
        },
        "a26e0dce0a86491db71a731f570f1a80": {
          "model_module": "@jupyter-widgets/base",
          "model_module_version": "1.2.0",
          "model_name": "LayoutModel",
          "state": {
            "_model_module": "@jupyter-widgets/base",
            "_model_module_version": "1.2.0",
            "_model_name": "LayoutModel",
            "_view_count": null,
            "_view_module": "@jupyter-widgets/base",
            "_view_module_version": "1.2.0",
            "_view_name": "LayoutView",
            "align_content": null,
            "align_items": null,
            "align_self": null,
            "border": null,
            "bottom": null,
            "display": null,
            "flex": null,
            "flex_flow": null,
            "grid_area": null,
            "grid_auto_columns": null,
            "grid_auto_flow": null,
            "grid_auto_rows": null,
            "grid_column": null,
            "grid_gap": null,
            "grid_row": null,
            "grid_template_areas": null,
            "grid_template_columns": null,
            "grid_template_rows": null,
            "height": null,
            "justify_content": null,
            "justify_items": null,
            "left": null,
            "margin": null,
            "max_height": null,
            "max_width": null,
            "min_height": null,
            "min_width": null,
            "object_fit": null,
            "object_position": null,
            "order": null,
            "overflow": null,
            "overflow_x": null,
            "overflow_y": null,
            "padding": null,
            "right": null,
            "top": null,
            "visibility": null,
            "width": null
          }
        },
        "aa9489756ac24ba0b523f04a3352a09f": {
          "model_module": "@jupyter-widgets/controls",
          "model_module_version": "1.5.0",
          "model_name": "HTMLModel",
          "state": {
            "_dom_classes": [],
            "_model_module": "@jupyter-widgets/controls",
            "_model_module_version": "1.5.0",
            "_model_name": "HTMLModel",
            "_view_count": null,
            "_view_module": "@jupyter-widgets/controls",
            "_view_module_version": "1.5.0",
            "_view_name": "HTMLView",
            "description": "",
            "description_tooltip": null,
            "layout": "IPY_MODEL_b72ff2e7020f447fb492c1e9f69a0174",
            "placeholder": "​",
            "style": "IPY_MODEL_567e3614e80743e5ae1f8e3c75a65b45",
            "value": "Eval PushTStateEnv: "
          }
        },
        "ac6375a33ca84241b50638edb6321112": {
          "model_module": "@jupyter-widgets/base",
          "model_module_version": "1.2.0",
          "model_name": "LayoutModel",
          "state": {
            "_model_module": "@jupyter-widgets/base",
            "_model_module_version": "1.2.0",
            "_model_name": "LayoutModel",
            "_view_count": null,
            "_view_module": "@jupyter-widgets/base",
            "_view_module_version": "1.2.0",
            "_view_name": "LayoutView",
            "align_content": null,
            "align_items": null,
            "align_self": null,
            "border": null,
            "bottom": null,
            "display": null,
            "flex": null,
            "flex_flow": null,
            "grid_area": null,
            "grid_auto_columns": null,
            "grid_auto_flow": null,
            "grid_auto_rows": null,
            "grid_column": null,
            "grid_gap": null,
            "grid_row": null,
            "grid_template_areas": null,
            "grid_template_columns": null,
            "grid_template_rows": null,
            "height": null,
            "justify_content": null,
            "justify_items": null,
            "left": null,
            "margin": null,
            "max_height": null,
            "max_width": null,
            "min_height": null,
            "min_width": null,
            "object_fit": null,
            "object_position": null,
            "order": null,
            "overflow": null,
            "overflow_x": null,
            "overflow_y": null,
            "padding": null,
            "right": null,
            "top": null,
            "visibility": null,
            "width": null
          }
        },
        "b2331069d969430b87c47e6f11fb2a9e": {
          "model_module": "@jupyter-widgets/base",
          "model_module_version": "1.2.0",
          "model_name": "LayoutModel",
          "state": {
            "_model_module": "@jupyter-widgets/base",
            "_model_module_version": "1.2.0",
            "_model_name": "LayoutModel",
            "_view_count": null,
            "_view_module": "@jupyter-widgets/base",
            "_view_module_version": "1.2.0",
            "_view_name": "LayoutView",
            "align_content": null,
            "align_items": null,
            "align_self": null,
            "border": null,
            "bottom": null,
            "display": null,
            "flex": null,
            "flex_flow": null,
            "grid_area": null,
            "grid_auto_columns": null,
            "grid_auto_flow": null,
            "grid_auto_rows": null,
            "grid_column": null,
            "grid_gap": null,
            "grid_row": null,
            "grid_template_areas": null,
            "grid_template_columns": null,
            "grid_template_rows": null,
            "height": null,
            "justify_content": null,
            "justify_items": null,
            "left": null,
            "margin": null,
            "max_height": null,
            "max_width": null,
            "min_height": null,
            "min_width": null,
            "object_fit": null,
            "object_position": null,
            "order": null,
            "overflow": null,
            "overflow_x": null,
            "overflow_y": null,
            "padding": null,
            "right": null,
            "top": null,
            "visibility": null,
            "width": null
          }
        },
        "b72ff2e7020f447fb492c1e9f69a0174": {
          "model_module": "@jupyter-widgets/base",
          "model_module_version": "1.2.0",
          "model_name": "LayoutModel",
          "state": {
            "_model_module": "@jupyter-widgets/base",
            "_model_module_version": "1.2.0",
            "_model_name": "LayoutModel",
            "_view_count": null,
            "_view_module": "@jupyter-widgets/base",
            "_view_module_version": "1.2.0",
            "_view_name": "LayoutView",
            "align_content": null,
            "align_items": null,
            "align_self": null,
            "border": null,
            "bottom": null,
            "display": null,
            "flex": null,
            "flex_flow": null,
            "grid_area": null,
            "grid_auto_columns": null,
            "grid_auto_flow": null,
            "grid_auto_rows": null,
            "grid_column": null,
            "grid_gap": null,
            "grid_row": null,
            "grid_template_areas": null,
            "grid_template_columns": null,
            "grid_template_rows": null,
            "height": null,
            "justify_content": null,
            "justify_items": null,
            "left": null,
            "margin": null,
            "max_height": null,
            "max_width": null,
            "min_height": null,
            "min_width": null,
            "object_fit": null,
            "object_position": null,
            "order": null,
            "overflow": null,
            "overflow_x": null,
            "overflow_y": null,
            "padding": null,
            "right": null,
            "top": null,
            "visibility": null,
            "width": null
          }
        },
        "b9f98d2d7c624a8eae13fa5b422739ce": {
          "model_module": "@jupyter-widgets/base",
          "model_module_version": "1.2.0",
          "model_name": "LayoutModel",
          "state": {
            "_model_module": "@jupyter-widgets/base",
            "_model_module_version": "1.2.0",
            "_model_name": "LayoutModel",
            "_view_count": null,
            "_view_module": "@jupyter-widgets/base",
            "_view_module_version": "1.2.0",
            "_view_name": "LayoutView",
            "align_content": null,
            "align_items": null,
            "align_self": null,
            "border": null,
            "bottom": null,
            "display": null,
            "flex": null,
            "flex_flow": null,
            "grid_area": null,
            "grid_auto_columns": null,
            "grid_auto_flow": null,
            "grid_auto_rows": null,
            "grid_column": null,
            "grid_gap": null,
            "grid_row": null,
            "grid_template_areas": null,
            "grid_template_columns": null,
            "grid_template_rows": null,
            "height": null,
            "justify_content": null,
            "justify_items": null,
            "left": null,
            "margin": null,
            "max_height": null,
            "max_width": null,
            "min_height": null,
            "min_width": null,
            "object_fit": null,
            "object_position": null,
            "order": null,
            "overflow": null,
            "overflow_x": null,
            "overflow_y": null,
            "padding": null,
            "right": null,
            "top": null,
            "visibility": null,
            "width": null
          }
        },
        "c29b0972b22d4dc59844ea958abf7bd1": {
          "model_module": "@jupyter-widgets/controls",
          "model_module_version": "1.5.0",
          "model_name": "HBoxModel",
          "state": {
            "_dom_classes": [],
            "_model_module": "@jupyter-widgets/controls",
            "_model_module_version": "1.5.0",
            "_model_name": "HBoxModel",
            "_view_count": null,
            "_view_module": "@jupyter-widgets/controls",
            "_view_module_version": "1.5.0",
            "_view_name": "HBoxView",
            "box_style": "",
            "children": [
              "IPY_MODEL_df7b2e7c39944341be1a091331fd7cc6",
              "IPY_MODEL_0d687f5624cb4871ad167ebcbcb4c148",
              "IPY_MODEL_82a5a8a6be3a41209de270d5072838a2"
            ],
            "layout": "IPY_MODEL_6d4dfa99470e40559bebd6689305f155"
          }
        },
        "c2d84f324ecd4789b9b3420591f6186d": {
          "model_module": "@jupyter-widgets/controls",
          "model_module_version": "1.5.0",
          "model_name": "HTMLModel",
          "state": {
            "_dom_classes": [],
            "_model_module": "@jupyter-widgets/controls",
            "_model_module_version": "1.5.0",
            "_model_name": "HTMLModel",
            "_view_count": null,
            "_view_module": "@jupyter-widgets/controls",
            "_view_module_version": "1.5.0",
            "_view_name": "HTMLView",
            "description": "",
            "description_tooltip": null,
            "layout": "IPY_MODEL_657a261a272d466e8bfd532279a401a1",
            "placeholder": "​",
            "style": "IPY_MODEL_5b6eaafac1574f7481e3bb2e20e598b3",
            "value": " 95/95 [00:32&lt;00:00,  3.08it/s, loss=0.0484]"
          }
        },
        "c7d2c3f8b3714a0d911a132c74589ce1": {
          "model_module": "@jupyter-widgets/base",
          "model_module_version": "1.2.0",
          "model_name": "LayoutModel",
          "state": {
            "_model_module": "@jupyter-widgets/base",
            "_model_module_version": "1.2.0",
            "_model_name": "LayoutModel",
            "_view_count": null,
            "_view_module": "@jupyter-widgets/base",
            "_view_module_version": "1.2.0",
            "_view_name": "LayoutView",
            "align_content": null,
            "align_items": null,
            "align_self": null,
            "border": null,
            "bottom": null,
            "display": null,
            "flex": null,
            "flex_flow": null,
            "grid_area": null,
            "grid_auto_columns": null,
            "grid_auto_flow": null,
            "grid_auto_rows": null,
            "grid_column": null,
            "grid_gap": null,
            "grid_row": null,
            "grid_template_areas": null,
            "grid_template_columns": null,
            "grid_template_rows": null,
            "height": null,
            "justify_content": null,
            "justify_items": null,
            "left": null,
            "margin": null,
            "max_height": null,
            "max_width": null,
            "min_height": null,
            "min_width": null,
            "object_fit": null,
            "object_position": null,
            "order": null,
            "overflow": null,
            "overflow_x": null,
            "overflow_y": null,
            "padding": null,
            "right": null,
            "top": null,
            "visibility": null,
            "width": "20px"
          }
        },
        "c8c282ba14c14da28ba421abc7119cf9": {
          "model_module": "@jupyter-widgets/controls",
          "model_module_version": "1.5.0",
          "model_name": "DescriptionStyleModel",
          "state": {
            "_model_module": "@jupyter-widgets/controls",
            "_model_module_version": "1.5.0",
            "_model_name": "DescriptionStyleModel",
            "_view_count": null,
            "_view_module": "@jupyter-widgets/base",
            "_view_module_version": "1.2.0",
            "_view_name": "StyleView",
            "description_width": ""
          }
        },
        "df7b2e7c39944341be1a091331fd7cc6": {
          "model_module": "@jupyter-widgets/controls",
          "model_module_version": "1.5.0",
          "model_name": "HTMLModel",
          "state": {
            "_dom_classes": [],
            "_model_module": "@jupyter-widgets/controls",
            "_model_module_version": "1.5.0",
            "_model_name": "HTMLModel",
            "_view_count": null,
            "_view_module": "@jupyter-widgets/controls",
            "_view_module_version": "1.5.0",
            "_view_name": "HTMLView",
            "description": "",
            "description_tooltip": null,
            "layout": "IPY_MODEL_0964ed28f2794bdf91e2e2756aae3bc4",
            "placeholder": "​",
            "style": "IPY_MODEL_1939a1c3cc7a498fa5f05ac737b0af99",
            "value": "Epoch: 100%"
          }
        },
        "ed0c7c76b76d40c9b25ca92abb00cf34": {
          "model_module": "@jupyter-widgets/base",
          "model_module_version": "1.2.0",
          "model_name": "LayoutModel",
          "state": {
            "_model_module": "@jupyter-widgets/base",
            "_model_module_version": "1.2.0",
            "_model_name": "LayoutModel",
            "_view_count": null,
            "_view_module": "@jupyter-widgets/base",
            "_view_module_version": "1.2.0",
            "_view_name": "LayoutView",
            "align_content": null,
            "align_items": null,
            "align_self": null,
            "border": null,
            "bottom": null,
            "display": null,
            "flex": null,
            "flex_flow": null,
            "grid_area": null,
            "grid_auto_columns": null,
            "grid_auto_flow": null,
            "grid_auto_rows": null,
            "grid_column": null,
            "grid_gap": null,
            "grid_row": null,
            "grid_template_areas": null,
            "grid_template_columns": null,
            "grid_template_rows": null,
            "height": null,
            "justify_content": null,
            "justify_items": null,
            "left": null,
            "margin": null,
            "max_height": null,
            "max_width": null,
            "min_height": null,
            "min_width": null,
            "object_fit": null,
            "object_position": null,
            "order": null,
            "overflow": null,
            "overflow_x": null,
            "overflow_y": null,
            "padding": null,
            "right": null,
            "top": null,
            "visibility": null,
            "width": null
          }
        },
        "f451b98692b64b54a0e8a3643a9bf992": {
          "model_module": "@jupyter-widgets/controls",
          "model_module_version": "1.5.0",
          "model_name": "HTMLModel",
          "state": {
            "_dom_classes": [],
            "_model_module": "@jupyter-widgets/controls",
            "_model_module_version": "1.5.0",
            "_model_name": "HTMLModel",
            "_view_count": null,
            "_view_module": "@jupyter-widgets/controls",
            "_view_module_version": "1.5.0",
            "_view_name": "HTMLView",
            "description": "",
            "description_tooltip": null,
            "layout": "IPY_MODEL_019444645b164b92a8da32e94a443d7e",
            "placeholder": "​",
            "style": "IPY_MODEL_83bd2cb0ca534108804cdc298d8b26c6",
            "value": "Batch: 100%"
          }
        },
        "fe61754736d04d539c3f941049b5922a": {
          "model_module": "@jupyter-widgets/controls",
          "model_module_version": "1.5.0",
          "model_name": "ProgressStyleModel",
          "state": {
            "_model_module": "@jupyter-widgets/controls",
            "_model_module_version": "1.5.0",
            "_model_name": "ProgressStyleModel",
            "_view_count": null,
            "_view_module": "@jupyter-widgets/base",
            "_view_module_version": "1.2.0",
            "_view_name": "StyleView",
            "bar_color": null,
            "description_width": ""
          }
        }
      }
    }
  },
  "nbformat": 4,
  "nbformat_minor": 0
}
